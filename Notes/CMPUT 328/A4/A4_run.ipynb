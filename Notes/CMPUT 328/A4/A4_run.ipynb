{
  "cells": [
    {
      "cell_type": "markdown",
      "metadata": {
        "id": "UUSia3hWTX9M"
      },
      "source": [
        "# Command-line argument parsing will be unavailable if this package is not installed so you will have to manually change the parameter values in `A4_main.py` to run the different configurations"
      ]
    },
    {
      "cell_type": "code",
      "source": [
        "from google.colab import drive\n",
        "drive.mount('/content/drive')"
      ],
      "metadata": {
        "id": "Rh62TmlhSEfx"
      },
      "execution_count": null,
      "outputs": []
    },
    {
      "cell_type": "code",
      "execution_count": null,
      "metadata": {
        "colab": {
          "base_uri": "https://localhost:8080/"
        },
        "id": "ydEvuYEZOLLS",
        "outputId": "96c3a29b-3ada-4a59-a5ad-d366b58d66f2"
      },
      "outputs": [
        {
          "output_type": "stream",
          "name": "stdout",
          "text": [
            "Looking in indexes: https://pypi.org/simple, https://us-python.pkg.dev/colab-wheels/public/simple/\n",
            "Collecting paramparse\n",
            "  Downloading paramparse-1.7.6-py3-none-any.whl (39 kB)\n",
            "Installing collected packages: paramparse\n",
            "Successfully installed paramparse-1.7.6\n"
          ]
        }
      ],
      "source": [
        "!pip install paramparse"
      ]
    },
    {
      "cell_type": "markdown",
      "metadata": {
        "id": "MNjI2alFS-a_"
      },
      "source": [
        "# Change the `cd` path in the following cells to the Google Drive folder containing the python files"
      ]
    },
    {
      "cell_type": "markdown",
      "source": [
        "## Manual implementation with L2 loss"
      ],
      "metadata": {
        "id": "Dy523_GI5gps"
      }
    },
    {
      "cell_type": "code",
      "execution_count": null,
      "metadata": {
        "colab": {
          "base_uri": "https://localhost:8080/"
        },
        "id": "KvoJvlD5N4V1",
        "outputId": "6927ef24-e876-4ce7-b9b5-db12df13d917"
      },
      "outputs": [
        {
          "name": "stdout",
          "output_type": "stream",
          "text": [
            "Running on CPU\n",
            "Downloading http://yann.lecun.com/exdb/mnist/train-images-idx3-ubyte.gz\n",
            "Downloading http://yann.lecun.com/exdb/mnist/train-images-idx3-ubyte.gz to ./MNIST/raw/train-images-idx3-ubyte.gz\n",
            "100% 9912422/9912422 [00:00<00:00, 64297374.71it/s]\n",
            "Extracting ./MNIST/raw/train-images-idx3-ubyte.gz to ./MNIST/raw\n",
            "\n",
            "Downloading http://yann.lecun.com/exdb/mnist/train-labels-idx1-ubyte.gz\n",
            "Downloading http://yann.lecun.com/exdb/mnist/train-labels-idx1-ubyte.gz to ./MNIST/raw/train-labels-idx1-ubyte.gz\n",
            "100% 28881/28881 [00:00<00:00, 166395183.82it/s]\n",
            "Extracting ./MNIST/raw/train-labels-idx1-ubyte.gz to ./MNIST/raw\n",
            "\n",
            "Downloading http://yann.lecun.com/exdb/mnist/t10k-images-idx3-ubyte.gz\n",
            "Downloading http://yann.lecun.com/exdb/mnist/t10k-images-idx3-ubyte.gz to ./MNIST/raw/t10k-images-idx3-ubyte.gz\n",
            "100% 1648877/1648877 [00:00<00:00, 45435317.36it/s]\n",
            "Extracting ./MNIST/raw/t10k-images-idx3-ubyte.gz to ./MNIST/raw\n",
            "\n",
            "Downloading http://yann.lecun.com/exdb/mnist/t10k-labels-idx1-ubyte.gz\n",
            "Downloading http://yann.lecun.com/exdb/mnist/t10k-labels-idx1-ubyte.gz to ./MNIST/raw/t10k-labels-idx1-ubyte.gz\n",
            "100% 4542/4542 [00:00<00:00, 30627859.76it/s]\n",
            "Extracting ./MNIST/raw/t10k-labels-idx1-ubyte.gz to ./MNIST/raw\n",
            "\n",
            "\n",
            "using manual implementation with L2 loss\n",
            "\n",
            "/usr/local/lib/python3.7/dist-packages/torch/nn/functional.py:1949: UserWarning: nn.functional.tanh is deprecated. Use torch.tanh instead.\n",
            "  warnings.warn(\"nn.functional.tanh is deprecated. Use torch.tanh instead.\")\n",
            "\n",
            "Validation set: Avg. loss: 0.0007, Accuracy: 852/5000 (17.04%)\n",
            "\n",
            "\n",
            "epoch 1 / 10\n",
            "\n",
            "train loss: 0.043807 avg loss: 0.078550: 100%|████████████████████| 430/430 [00:09<00:00, 45.15it/s]\n",
            "\n",
            "train runtime: 9.53 secs\n",
            "\n",
            "Validation set: Avg. loss: 0.0004, Accuracy: 3055/5000 (61.10%)\n",
            "\n",
            "\n",
            "epoch 2 / 10\n",
            "\n",
            "train loss: 0.018481 avg loss: 0.029784: 100%|████████████████████| 430/430 [00:09<00:00, 45.67it/s]\n",
            "\n",
            "train runtime: 9.42 secs\n",
            "\n",
            "Validation set: Avg. loss: 0.0001, Accuracy: 4443/5000 (88.86%)\n",
            "\n",
            "\n",
            "epoch 3 / 10\n",
            "\n",
            "train loss: 0.009889 avg loss: 0.015506: 100%|████████████████████| 430/430 [00:09<00:00, 46.18it/s]\n",
            "\n",
            "train runtime: 9.31 secs\n",
            "\n",
            "Validation set: Avg. loss: 0.0001, Accuracy: 4570/5000 (91.40%)\n",
            "\n",
            "\n",
            "epoch 4 / 10\n",
            "\n",
            "train loss: 0.004956 avg loss: 0.012436: 100%|████████████████████| 430/430 [00:09<00:00, 45.45it/s]\n",
            "\n",
            "train runtime: 9.46 secs\n",
            "\n",
            "Validation set: Avg. loss: 0.0001, Accuracy: 4637/5000 (92.74%)\n",
            "\n",
            "\n",
            "epoch 5 / 10\n",
            "\n",
            "train loss: 0.008534 avg loss: 0.010682: 100%|████████████████████| 430/430 [00:09<00:00, 45.26it/s]\n",
            "\n",
            "train runtime: 9.50 secs\n",
            "\n",
            "Validation set: Avg. loss: 0.0001, Accuracy: 4667/5000 (93.34%)\n",
            "\n",
            "\n",
            "epoch 6 / 10\n",
            "\n",
            "train loss: 0.003646 avg loss: 0.009409: 100%|████████████████████| 430/430 [00:09<00:00, 45.68it/s]\n",
            "\n",
            "train runtime: 9.41 secs\n",
            "\n",
            "Validation set: Avg. loss: 0.0001, Accuracy: 4701/5000 (94.02%)\n",
            "\n",
            "\n",
            "epoch 7 / 10\n",
            "\n",
            "train loss: 0.004270 avg loss: 0.008428: 100%|████████████████████| 430/430 [00:09<00:00, 45.33it/s]\n",
            "\n",
            "train runtime: 9.49 secs\n",
            "\n",
            "Validation set: Avg. loss: 0.0001, Accuracy: 4716/5000 (94.32%)\n",
            "\n",
            "\n",
            "epoch 8 / 10\n",
            "\n",
            "train loss: 0.007422 avg loss: 0.007633: 100%|████████████████████| 430/430 [00:09<00:00, 45.38it/s]\n",
            "\n",
            "train runtime: 9.48 secs\n",
            "\n",
            "Validation set: Avg. loss: 0.0001, Accuracy: 4731/5000 (94.62%)\n",
            "\n",
            "\n",
            "epoch 9 / 10\n",
            "\n",
            "train loss: 0.005705 avg loss: 0.006959: 100%|████████████████████| 430/430 [00:09<00:00, 46.08it/s]\n",
            "\n",
            "train runtime: 9.33 secs\n",
            "\n",
            "Validation set: Avg. loss: 0.0001, Accuracy: 4746/5000 (94.92%)\n",
            "\n",
            "\n",
            "epoch 10 / 10\n",
            "\n",
            "train loss: 0.005341 avg loss: 0.006412: 100%|████████████████████| 430/430 [00:09<00:00, 45.51it/s]\n",
            "\n",
            "train runtime: 9.45 secs\n",
            "\n",
            "Validation set: Avg. loss: 0.0001, Accuracy: 4757/5000 (95.14%)\n",
            "\n",
            "\n",
            "Test set: Avg. loss: 0.0000, Accuracy: 9567/10000 (95.67%)\n",
            "\n",
            "total runtime: 104.68 secs\n"
          ]
        }
      ],
      "source": [
        "!cd \"/content/drive/MyDrive/328_F22/A4\" && python3 A4_main.py impl_type=manual loss_type=l2"
      ]
    },
    {
      "cell_type": "markdown",
      "source": [
        "## Manual implementation with Cross Entropy loss"
      ],
      "metadata": {
        "id": "YAMy-pQY5ujf"
      }
    },
    {
      "cell_type": "code",
      "execution_count": null,
      "metadata": {
        "colab": {
          "base_uri": "https://localhost:8080/"
        },
        "id": "pFgZXb5ZO4QT",
        "outputId": "8b472008-dfcd-4ebb-c718-47ddb6ca9823"
      },
      "outputs": [
        {
          "name": "stdout",
          "output_type": "stream",
          "text": [
            "Running on CPU\n",
            "\n",
            "using manual implementation with cross entropy loss\n",
            "\n",
            "/usr/local/lib/python3.7/dist-packages/torch/nn/functional.py:1949: UserWarning: nn.functional.tanh is deprecated. Use torch.tanh instead.\n",
            "  warnings.warn(\"nn.functional.tanh is deprecated. Use torch.tanh instead.\")\n",
            "\n",
            "Validation set: Avg. loss: 0.0018, Accuracy: 852/5000 (17.04%)\n",
            "\n",
            "\n",
            "epoch 1 / 10\n",
            "\n",
            "train loss: 0.013057 avg loss: 0.060664: 100%|████████████████████| 430/430 [00:10<00:00, 42.02it/s]\n",
            "\n",
            "train runtime: 10.24 secs\n",
            "\n",
            "Validation set: Avg. loss: 0.0002, Accuracy: 4645/5000 (92.90%)\n",
            "\n",
            "\n",
            "epoch 2 / 10\n",
            "\n",
            "train loss: 0.023047 avg loss: 0.020207: 100%|████████████████████| 430/430 [00:09<00:00, 44.36it/s]\n",
            "\n",
            "train runtime: 9.69 secs\n",
            "\n",
            "Validation set: Avg. loss: 0.0001, Accuracy: 4732/5000 (94.64%)\n",
            "\n",
            "\n",
            "epoch 3 / 10\n",
            "\n",
            "train loss: 0.008014 avg loss: 0.014302: 100%|████████████████████| 430/430 [00:09<00:00, 44.54it/s]\n",
            "\n",
            "train runtime: 9.66 secs\n",
            "\n",
            "Validation set: Avg. loss: 0.0001, Accuracy: 4778/5000 (95.56%)\n",
            "\n",
            "\n",
            "epoch 4 / 10\n",
            "\n",
            "train loss: 0.003358 avg loss: 0.011161: 100%|████████████████████| 430/430 [00:09<00:00, 44.56it/s]\n",
            "\n",
            "train runtime: 9.65 secs\n",
            "\n",
            "Validation set: Avg. loss: 0.0001, Accuracy: 4803/5000 (96.06%)\n",
            "\n",
            "\n",
            "epoch 5 / 10\n",
            "\n",
            "train loss: 0.009066 avg loss: 0.009265: 100%|████████████████████| 430/430 [00:09<00:00, 45.44it/s]\n",
            "\n",
            "train runtime: 9.46 secs\n",
            "\n",
            "Validation set: Avg. loss: 0.0001, Accuracy: 4802/5000 (96.04%)\n",
            "\n",
            "\n",
            "epoch 6 / 10\n",
            "\n",
            "train loss: 0.002753 avg loss: 0.007852: 100%|████████████████████| 430/430 [00:09<00:00, 46.08it/s]\n",
            "\n",
            "train runtime: 9.33 secs\n",
            "\n",
            "Validation set: Avg. loss: 0.0001, Accuracy: 4812/5000 (96.24%)\n",
            "\n",
            "\n",
            "epoch 7 / 10\n",
            "\n",
            "train loss: 0.004445 avg loss: 0.006786: 100%|████████████████████| 430/430 [00:09<00:00, 45.51it/s]\n",
            "\n",
            "train runtime: 9.45 secs\n",
            "\n",
            "Validation set: Avg. loss: 0.0001, Accuracy: 4815/5000 (96.30%)\n",
            "\n",
            "\n",
            "epoch 8 / 10\n",
            "\n",
            "train loss: 0.004986 avg loss: 0.005832: 100%|████████████████████| 430/430 [00:09<00:00, 46.09it/s]\n",
            "\n",
            "train runtime: 9.33 secs\n",
            "\n",
            "Validation set: Avg. loss: 0.0001, Accuracy: 4816/5000 (96.32%)\n",
            "\n",
            "\n",
            "epoch 9 / 10\n",
            "\n",
            "train loss: 0.001720 avg loss: 0.005052: 100%|████████████████████| 430/430 [00:09<00:00, 45.04it/s]\n",
            "\n",
            "train runtime: 9.55 secs\n",
            "\n",
            "Validation set: Avg. loss: 0.0001, Accuracy: 4822/5000 (96.44%)\n",
            "\n",
            "\n",
            "epoch 10 / 10\n",
            "\n",
            "train loss: 0.004100 avg loss: 0.004332: 100%|████████████████████| 430/430 [00:09<00:00, 46.15it/s]\n",
            "\n",
            "train runtime: 9.32 secs\n",
            "\n",
            "Validation set: Avg. loss: 0.0001, Accuracy: 4830/5000 (96.60%)\n",
            "\n",
            "\n",
            "Test set: Avg. loss: 0.0000, Accuracy: 9704/10000 (97.04%)\n",
            "\n",
            "total runtime: 105.90 secs\n"
          ]
        }
      ],
      "source": [
        "!cd \"/content/drive/MyDrive/328_F22/A4\" && python3 A4_main.py impl_type=manual loss_type=ce"
      ]
    },
    {
      "cell_type": "markdown",
      "source": [
        "## Built-in implementation with L2 loss"
      ],
      "metadata": {
        "id": "51vAPnWo51an"
      }
    },
    {
      "cell_type": "code",
      "execution_count": null,
      "metadata": {
        "colab": {
          "base_uri": "https://localhost:8080/"
        },
        "id": "Mac3n9bNO8AA",
        "outputId": "3027301c-60af-4be5-a631-9f13745b0755"
      },
      "outputs": [
        {
          "name": "stdout",
          "output_type": "stream",
          "text": [
            "Running on CPU\n",
            "\n",
            "using builtin implementation with L2 loss\n",
            "\n",
            "/usr/local/lib/python3.7/dist-packages/torch/nn/functional.py:1949: UserWarning: nn.functional.tanh is deprecated. Use torch.tanh instead.\n",
            "  warnings.warn(\"nn.functional.tanh is deprecated. Use torch.tanh instead.\")\n",
            "/content/drive/MyDrive/328_F22/A4/A4_submission_builtin.py:23: UserWarning: Implicit dimension choice for log_softmax has been deprecated. Change the call to include dim=X as an argument.\n",
            "  output = F.log_softmax(x)\n",
            "\n",
            "Validation set: Avg. loss: 0.0477, Accuracy: 595/5000 (11.90%)\n",
            "\n",
            "\n",
            "epoch 1 / 10\n",
            "\n",
            "train loss: 5.846982 avg loss: 5.850443: 100%|████████████████████| 430/430 [00:09<00:00, 45.26it/s]\n",
            "\n",
            "train runtime: 9.50 secs\n",
            "\n",
            "Validation set: Avg. loss: 0.0468, Accuracy: 4339/5000 (86.78%)\n",
            "\n",
            "\n",
            "epoch 2 / 10\n",
            "\n",
            "train loss: 5.844099 avg loss: 5.845899: 100%|████████████████████| 430/430 [00:09<00:00, 45.81it/s]\n",
            "\n",
            "train runtime: 9.39 secs\n",
            "\n",
            "Validation set: Avg. loss: 0.0468, Accuracy: 4463/5000 (89.26%)\n",
            "\n",
            "\n",
            "epoch 3 / 10\n",
            "\n",
            "train loss: 5.844445 avg loss: 5.844427: 100%|████████████████████| 430/430 [00:09<00:00, 46.01it/s]\n",
            "\n",
            "train runtime: 9.35 secs\n",
            "\n",
            "Validation set: Avg. loss: 0.0468, Accuracy: 4539/5000 (90.78%)\n",
            "\n",
            "\n",
            "epoch 4 / 10\n",
            "\n",
            "train loss: 5.842598 avg loss: 5.843611: 100%|████████████████████| 430/430 [00:09<00:00, 45.61it/s]\n",
            "\n",
            "train runtime: 9.43 secs\n",
            "\n",
            "Validation set: Avg. loss: 0.0467, Accuracy: 4584/5000 (91.68%)\n",
            "\n",
            "\n",
            "epoch 5 / 10\n",
            "\n",
            "train loss: 5.843307 avg loss: 5.843082: 100%|████████████████████| 430/430 [00:09<00:00, 45.13it/s]\n",
            "\n",
            "train runtime: 9.53 secs\n",
            "\n",
            "Validation set: Avg. loss: 0.0467, Accuracy: 4611/5000 (92.22%)\n",
            "\n",
            "\n",
            "epoch 6 / 10\n",
            "\n",
            "train loss: 5.841915 avg loss: 5.842696: 100%|████████████████████| 430/430 [00:09<00:00, 45.60it/s]\n",
            "\n",
            "train runtime: 9.43 secs\n",
            "\n",
            "Validation set: Avg. loss: 0.0467, Accuracy: 4625/5000 (92.50%)\n",
            "\n",
            "\n",
            "epoch 7 / 10\n",
            "\n",
            "train loss: 5.842278 avg loss: 5.842404: 100%|████████████████████| 430/430 [00:09<00:00, 45.18it/s]\n",
            "\n",
            "train runtime: 9.52 secs\n",
            "\n",
            "Validation set: Avg. loss: 0.0467, Accuracy: 4646/5000 (92.92%)\n",
            "\n",
            "\n",
            "epoch 8 / 10\n",
            "\n",
            "train loss: 5.841658 avg loss: 5.842169: 100%|████████████████████| 430/430 [00:09<00:00, 46.03it/s]\n",
            "\n",
            "train runtime: 9.34 secs\n",
            "\n",
            "Validation set: Avg. loss: 0.0467, Accuracy: 4654/5000 (93.08%)\n",
            "\n",
            "\n",
            "epoch 9 / 10\n",
            "\n",
            "train loss: 5.840790 avg loss: 5.841977: 100%|████████████████████| 430/430 [00:09<00:00, 45.43it/s]\n",
            "\n",
            "train runtime: 9.47 secs\n",
            "\n",
            "Validation set: Avg. loss: 0.0467, Accuracy: 4657/5000 (93.14%)\n",
            "\n",
            "\n",
            "epoch 10 / 10\n",
            "\n",
            "train loss: 5.841334 avg loss: 5.841815: 100%|████████████████████| 430/430 [00:09<00:00, 45.28it/s]\n",
            "\n",
            "train runtime: 9.50 secs\n",
            "\n",
            "Validation set: Avg. loss: 0.0467, Accuracy: 4676/5000 (93.52%)\n",
            "\n",
            "\n",
            "Test set: Avg. loss: 0.0058, Accuracy: 9399/10000 (93.99%)\n",
            "\n",
            "total runtime: 104.43 secs\n"
          ]
        }
      ],
      "source": [
        "!cd \"/content/drive/MyDrive/328_F22/A4\" && python3 A4_main.py impl_type=builtin loss_type=l2"
      ]
    },
    {
      "cell_type": "markdown",
      "source": [
        "## Built-in implementation with Cross Entropy loss"
      ],
      "metadata": {
        "id": "h8hnw4eP561w"
      }
    },
    {
      "cell_type": "code",
      "execution_count": null,
      "metadata": {
        "colab": {
          "base_uri": "https://localhost:8080/"
        },
        "id": "Hbg2g55qO8RD",
        "outputId": "0020ed8a-3258-4a0e-cb88-c4dd78c26297"
      },
      "outputs": [
        {
          "name": "stdout",
          "output_type": "stream",
          "text": [
            "Running on CPU\n",
            "\n",
            "using builtin implementation with cross entropy loss\n",
            "\n",
            "/usr/local/lib/python3.7/dist-packages/torch/nn/functional.py:1949: UserWarning: nn.functional.tanh is deprecated. Use torch.tanh instead.\n",
            "  warnings.warn(\"nn.functional.tanh is deprecated. Use torch.tanh instead.\")\n",
            "/content/drive/MyDrive/328_F22/A4/A4_submission_builtin.py:23: UserWarning: Implicit dimension choice for log_softmax has been deprecated. Change the call to include dim=X as an argument.\n",
            "  output = F.log_softmax(x)\n",
            "\n",
            "Validation set: Avg. loss: 0.0186, Accuracy: 595/5000 (11.90%)\n",
            "\n",
            "\n",
            "epoch 1 / 10\n",
            "\n",
            "train loss: 0.210476 avg loss: 0.329996: 100%|████████████████████| 430/430 [00:09<00:00, 45.75it/s]\n",
            "\n",
            "train runtime: 9.40 secs\n",
            "\n",
            "Validation set: Avg. loss: 0.0015, Accuracy: 4726/5000 (94.52%)\n",
            "\n",
            "\n",
            "epoch 2 / 10\n",
            "\n",
            "train loss: 0.062445 avg loss: 0.143491: 100%|████████████████████| 430/430 [00:09<00:00, 45.64it/s]\n",
            "\n",
            "train runtime: 9.42 secs\n",
            "\n",
            "Validation set: Avg. loss: 0.0011, Accuracy: 4786/5000 (95.72%)\n",
            "\n",
            "\n",
            "epoch 3 / 10\n",
            "\n",
            "train loss: 0.123733 avg loss: 0.104368: 100%|████████████████████| 430/430 [00:09<00:00, 44.97it/s]\n",
            "\n",
            "train runtime: 9.56 secs\n",
            "\n",
            "Validation set: Avg. loss: 0.0010, Accuracy: 4802/5000 (96.04%)\n",
            "\n",
            "\n",
            "epoch 4 / 10\n",
            "\n",
            "train loss: 0.057016 avg loss: 0.084459: 100%|████████████████████| 430/430 [00:09<00:00, 46.02it/s]\n",
            "\n",
            "train runtime: 9.34 secs\n",
            "\n",
            "Validation set: Avg. loss: 0.0010, Accuracy: 4799/5000 (95.98%)\n",
            "\n",
            "\n",
            "epoch 5 / 10\n",
            "\n",
            "train loss: 0.049166 avg loss: 0.068055: 100%|████████████████████| 430/430 [00:09<00:00, 45.89it/s]\n",
            "\n",
            "train runtime: 9.37 secs\n",
            "\n",
            "Validation set: Avg. loss: 0.0009, Accuracy: 4817/5000 (96.34%)\n",
            "\n",
            "\n",
            "epoch 6 / 10\n",
            "\n",
            "train loss: 0.021146 avg loss: 0.057164: 100%|████████████████████| 430/430 [00:09<00:00, 45.84it/s]\n",
            "\n",
            "train runtime: 9.38 secs\n",
            "\n",
            "Validation set: Avg. loss: 0.0009, Accuracy: 4818/5000 (96.36%)\n",
            "\n",
            "\n",
            "epoch 7 / 10\n",
            "\n",
            "train loss: 0.031002 avg loss: 0.049382: 100%|████████████████████| 430/430 [00:09<00:00, 46.42it/s]\n",
            "\n",
            "train runtime: 9.26 secs\n",
            "\n",
            "Validation set: Avg. loss: 0.0010, Accuracy: 4814/5000 (96.28%)\n",
            "\n",
            "\n",
            "epoch 8 / 10\n",
            "\n",
            "train loss: 0.050637 avg loss: 0.041060: 100%|████████████████████| 430/430 [00:09<00:00, 45.91it/s]\n",
            "\n",
            "train runtime: 9.37 secs\n",
            "\n",
            "Validation set: Avg. loss: 0.0012, Accuracy: 4820/5000 (96.40%)\n",
            "\n",
            "\n",
            "epoch 9 / 10\n",
            "\n",
            "train loss: 0.006462 avg loss: 0.035476: 100%|████████████████████| 430/430 [00:09<00:00, 46.12it/s]\n",
            "\n",
            "train runtime: 9.32 secs\n",
            "\n",
            "Validation set: Avg. loss: 0.0009, Accuracy: 4825/5000 (96.50%)\n",
            "\n",
            "\n",
            "epoch 10 / 10\n",
            "\n",
            "train loss: 0.006128 avg loss: 0.030155: 100%|████████████████████| 430/430 [00:09<00:00, 46.15it/s]\n",
            "\n",
            "train runtime: 9.32 secs\n",
            "\n",
            "Validation set: Avg. loss: 0.0009, Accuracy: 4832/5000 (96.64%)\n",
            "\n",
            "\n",
            "Test set: Avg. loss: 0.0001, Accuracy: 9685/10000 (96.85%)\n",
            "\n",
            "total runtime: 103.71 secs\n"
          ]
        }
      ],
      "source": [
        "!cd \"/content/drive/MyDrive/328_F22/A4\" && python3 A4_main.py impl_type=builtin loss_type=ce"
      ]
    },
    {
      "cell_type": "markdown",
      "source": [
        "# Run this to save your own data files for comparing with a subsequent run"
      ],
      "metadata": {
        "id": "XpbWowHCznPf"
      }
    },
    {
      "cell_type": "code",
      "source": [
        "!cd \"/content/drive/MyDrive/328_F22/A4\" && python3 A4_numerical_test.py impl_type=builtin loss_type=l2 load=0"
      ],
      "metadata": {
        "id": "OqFnHN1q_Gx_"
      },
      "execution_count": null,
      "outputs": []
    },
    {
      "cell_type": "markdown",
      "source": [
        "# Run this to compare your builtin implementation with CE loss using [pre-saved data](https://drive.google.com/drive/folders/1Pz_6gjcAWhNdy6UKuTaC6TQ-2thhzzuS?usp=sharing)"
      ],
      "metadata": {
        "id": "DXyDh75Gzu9I"
      }
    },
    {
      "cell_type": "code",
      "source": [
        "!cd \"/content/drive/MyDrive/328_F22/A4\" && python3 A4_numerical_test.py  impl_type=builtin loss_type=ce load=1 load_dir=builtin_ce show_plot=0 save_plot=1 n_epochs=1 ext=avi codec=MJPG"
      ],
      "metadata": {
        "id": "scyrhulE_y1W"
      },
      "execution_count": null,
      "outputs": []
    },
    {
      "cell_type": "markdown",
      "source": [
        "# Run this to compare your builtin implementation with L2 loss using [pre-saved data](https://drive.google.com/drive/folders/1U3Rfu9qX6ZaCugnVwuXVwPxNH5PzYYCo?usp=sharing)"
      ],
      "metadata": {
        "id": "M0x6GSDm0FB6"
      }
    },
    {
      "cell_type": "code",
      "source": [
        "!cd \"/content/drive/MyDrive/328_F22/A4\" && python3 A4_numerical_test.py  impl_type=builtin loss_type=l2 load=1 load_dir=builtin_l2 show_plot=0 save_plot=1 n_epochs=1 ext=avi codec=MJPG"
      ],
      "metadata": {
        "id": "IMVZd6P4zY3R"
      },
      "execution_count": null,
      "outputs": []
    }
  ],
  "metadata": {
    "colab": {
      "provenance": [],
      "collapsed_sections": []
    },
    "kernelspec": {
      "name": "python3",
      "display_name": "Python 3"
    },
    "language_info": {
      "name": "python"
    },
    "accelerator": "GPU"
  },
  "nbformat": 4,
  "nbformat_minor": 0
}