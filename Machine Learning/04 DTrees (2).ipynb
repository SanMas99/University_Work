{
 "cells": [
  {
   "cell_type": "markdown",
   "metadata": {},
   "source": [
    "# Decision Trees in scikit-learn\n",
    "Using the `DecisionTreeClassifier` in scikit-learn.  "
   ]
  },
  {
   "cell_type": "code",
   "execution_count": null,
   "metadata": {},
   "outputs": [],
   "source": [
    "import pandas as pd\n",
    "import numpy as np\n",
    "from sklearn import tree\n",
    "from sklearn.tree import DecisionTreeClassifier\n",
    "import matplotlib.pyplot as plt\n",
    "apears = pd.read_csv('ApplesPears.csv')\n",
    "apears.head()"
   ]
  },
  {
   "cell_type": "markdown",
   "metadata": {},
   "source": [
    "scikit-learn can deal with a category class label but it cannot deal with category features.  \n",
    "So we drop the `Taste` feature. "
   ]
  },
  {
   "cell_type": "code",
   "execution_count": null,
   "metadata": {},
   "outputs": [],
   "source": [
    "y = apears.pop('Class').values\n",
    "apears.pop('Taste')    # Can't deal with category features\n",
    "ap_features = list(apears.columns)\n",
    "X = apears.values\n",
    "X[0]"
   ]
  },
  {
   "cell_type": "code",
   "execution_count": null,
   "metadata": {},
   "outputs": [],
   "source": [
    "type(X)"
   ]
  },
  {
   "cell_type": "code",
   "execution_count": null,
   "metadata": {},
   "outputs": [],
   "source": [
    "y"
   ]
  },
  {
   "cell_type": "code",
   "execution_count": null,
   "metadata": {},
   "outputs": [],
   "source": [
    "apears"
   ]
  },
  {
   "cell_type": "code",
   "execution_count": null,
   "metadata": {},
   "outputs": [],
   "source": [
    "ftree = DecisionTreeClassifier(criterion='entropy')\n",
    "ap_tree = ftree.fit(apears, y)"
   ]
  },
  {
   "cell_type": "code",
   "execution_count": null,
   "metadata": {},
   "outputs": [],
   "source": [
    "help(ftree)"
   ]
  },
  {
   "cell_type": "code",
   "execution_count": null,
   "metadata": {},
   "outputs": [],
   "source": [
    "ap_tree.predict([X[2]])"
   ]
  },
  {
   "cell_type": "code",
   "execution_count": null,
   "metadata": {},
   "outputs": [],
   "source": [
    "tree.plot_tree(ap_tree, feature_names=ap_features, fontsize = 12,\n",
    "                      class_names=['Apple','Pear'],  \n",
    "                      filled=True, rounded=True) \n",
    "None # supressing the verbose return from plot_tree"
   ]
  },
  {
   "cell_type": "code",
   "execution_count": null,
   "metadata": {},
   "outputs": [],
   "source": [
    "apears.pop('H/W')    # Delete this feature to make it harder\n",
    "X = apears.values\n",
    "ap_features = list(apears.columns)"
   ]
  },
  {
   "cell_type": "code",
   "execution_count": null,
   "metadata": {},
   "outputs": [],
   "source": [
    "ap2_tree = ftree.fit(X, y)"
   ]
  },
  {
   "cell_type": "code",
   "execution_count": null,
   "metadata": {},
   "outputs": [],
   "source": [
    "fig, ax = plt.subplots(figsize=(6,6))\n",
    "tree.plot_tree(ap2_tree,feature_names=ap_features, fontsize = 12,\n",
    "                      class_names=['Apple','Pear'],  \n",
    "                      filled=True, rounded=True) \n",
    "None # supressing the verbose return from plot_tree"
   ]
  },
  {
   "cell_type": "markdown",
   "metadata": {},
   "source": [
    "---\n",
    "## Penguins Data\n",
    "For more information on the Penguins dataset see:\n",
    "https://allisonhorst.github.io/palmerpenguins/ \n",
    "\n",
    "Changing the `min_samples_leaf` and `min_impurity_decrease` attributes will change the *bushiness* of the tree. \n",
    "Two key methods:\n",
    "1. `fit` method will train the tree from the data.\n",
    "2. `predict` method will produce class predictions for an array of test data. "
   ]
  },
  {
   "cell_type": "code",
   "execution_count": null,
   "metadata": {},
   "outputs": [],
   "source": [
    "penguins_all = pd.read_csv('penguins_af.csv')\n",
    "f_names = ['bill_length_mm', 'bill_depth_mm','flipper_length_mm', 'body_mass_g']\n",
    "X = penguins_all[f_names].values\n",
    "y = penguins_all['species']\n",
    "species_names = list(np.unique(y))\n",
    "species_names"
   ]
  },
  {
   "cell_type": "code",
   "execution_count": null,
   "metadata": {},
   "outputs": [],
   "source": [
    "X.shape"
   ]
  },
  {
   "cell_type": "code",
   "execution_count": null,
   "metadata": {},
   "outputs": [],
   "source": [
    "ptree = DecisionTreeClassifier(criterion='entropy', min_samples_leaf=30, \n",
    "                               min_impurity_decrease = 0.1)\n",
    "ptree.fit(X,y)"
   ]
  },
  {
   "cell_type": "markdown",
   "metadata": {},
   "source": [
    "## ptree # Have a look at the model attributes"
   ]
  },
  {
   "cell_type": "code",
   "execution_count": null,
   "metadata": {},
   "outputs": [],
   "source": [
    "fig, ax = plt.subplots(figsize=(6, 6))\n",
    "tree.plot_tree(ptree, feature_names=f_names,  \n",
    "                      class_names=species_names, fontsize = 9,\n",
    "                      filled=True, rounded=True) \n",
    "None # supressing the verbose return from plot_tree"
   ]
  },
  {
   "cell_type": "markdown",
   "metadata": {},
   "source": [
    "Run a test example."
   ]
  },
  {
   "cell_type": "code",
   "execution_count": null,
   "metadata": {},
   "outputs": [],
   "source": [
    "tn = 15\n",
    "for i,j in zip(X[tn],f_names):\n",
    "    print(i,j)\n",
    "y_pred = ptree.predict([X[tn]])\n",
    "print('Prediced class label:',y_pred[0])"
   ]
  },
  {
   "cell_type": "markdown",
   "metadata": {},
   "source": [
    "***\n",
    "   ## Athlete Data"
   ]
  },
  {
   "cell_type": "code",
   "execution_count": null,
   "metadata": {},
   "outputs": [],
   "source": [
    "import pandas as pd\n",
    "athlete = pd.read_csv('AthleteSelection.csv',index_col = 'Athlete')\n",
    "athlete.head()"
   ]
  },
  {
   "cell_type": "code",
   "execution_count": null,
   "metadata": {},
   "outputs": [],
   "source": [
    "y = athlete.pop('Selected').values\n",
    "X = athlete.values"
   ]
  },
  {
   "cell_type": "code",
   "execution_count": null,
   "metadata": {},
   "outputs": [],
   "source": [
    "atree = DecisionTreeClassifier(criterion='gini')\n",
    "atree = atree.fit(X,y)"
   ]
  },
  {
   "cell_type": "code",
   "execution_count": null,
   "metadata": {},
   "outputs": [],
   "source": [
    "fig, ax = plt.subplots(figsize=(6, 6))\n",
    "tree.plot_tree(atree, feature_names=['Speed','Agility'],  \n",
    "                      class_names=['Selected','No'],  \n",
    "                      filled=True, rounded=True,)\n",
    "None # supressing the verbose return from plot_tree"
   ]
  },
  {
   "cell_type": "markdown",
   "metadata": {},
   "source": [
    "## Restaurant Data\n",
    "Predictive features are categories(rather than numeric)."
   ]
  },
  {
   "cell_type": "code",
   "execution_count": null,
   "metadata": {
    "scrolled": true
   },
   "outputs": [],
   "source": [
    "import pandas as pd\n",
    "restaurant = pd.read_csv('restaurant.csv',index_col = 'No')\n",
    "restaurant.head()"
   ]
  },
  {
   "cell_type": "markdown",
   "metadata": {},
   "source": [
    "## Aside: Dealing with category data\n",
    "Convert to numeric - two options:  \n",
    "1. `get_dummies` method for pandas.\n",
    "2. `OneHotEncoding` for sklearn. "
   ]
  },
  {
   "cell_type": "code",
   "execution_count": null,
   "metadata": {},
   "outputs": [],
   "source": [
    "df = pd.DataFrame({'Pet': ['cat', 'dog', 'cat','ferret'], \n",
    "                   'Transport': ['bike', 'car', 'car','bike'],\n",
    "                   'Area': ['urban','urban','rural','urban']})\n",
    "df"
   ]
  },
  {
   "cell_type": "markdown",
   "metadata": {},
   "source": [
    "### Pandas `get_dummies`\n",
    "The Pandas `get_dummies` method is the easiest way to do One-Hot encoding.  \n",
    "But if you want to apply the encoding to a test file later, this gets awkward. "
   ]
  },
  {
   "cell_type": "code",
   "execution_count": null,
   "metadata": {
    "scrolled": true
   },
   "outputs": [],
   "source": [
    "pd.get_dummies(df)"
   ]
  },
  {
   "cell_type": "code",
   "execution_count": null,
   "metadata": {
    "scrolled": true
   },
   "outputs": [],
   "source": [
    "pd.get_dummies(df,drop_first=True)"
   ]
  },
  {
   "cell_type": "markdown",
   "metadata": {},
   "source": [
    "### Using `OneHotEncoder` to convert category features to numbers"
   ]
  },
  {
   "cell_type": "code",
   "execution_count": null,
   "metadata": {},
   "outputs": [],
   "source": [
    "from sklearn.preprocessing import OneHotEncoder, LabelEncoder\n",
    "onehot_encoder = OneHotEncoder(sparse_output=False)\n",
    "dfOH = onehot_encoder.fit_transform(df)\n",
    "dfOH"
   ]
  },
  {
   "cell_type": "code",
   "execution_count": null,
   "metadata": {},
   "outputs": [],
   "source": [
    "onehot_encoder.get_feature_names_out()"
   ]
  },
  {
   "cell_type": "code",
   "execution_count": null,
   "metadata": {},
   "outputs": [],
   "source": [
    "onehot_encoder.categories_"
   ]
  },
  {
   "cell_type": "markdown",
   "metadata": {},
   "source": [
    "### `LabelEncoder` also converts category features to numbers\n",
    "This is more compact.  \n",
    "But it is not exactly what we want as the numbers are misleading.  \n",
    "Ferrets are not more like dogs than cats. (Well maybe they are!)"
   ]
  },
  {
   "cell_type": "code",
   "execution_count": null,
   "metadata": {},
   "outputs": [],
   "source": [
    "# LabelEncoder only works on single columns so we must 'apply' it to the dataframe. \n",
    "label_encoder = LabelEncoder()\n",
    "labelE = df.apply(label_encoder.fit_transform)\n",
    "labelE"
   ]
  },
  {
   "cell_type": "markdown",
   "metadata": {},
   "source": [
    "---\n",
    "# Restaurant Data \n",
    "## Using OneHotEncoding\n",
    "`OneHotEncoder` class has two key methods:   \n",
    "1. `fit` to 'learn' the transform from the data,\n",
    "2. `transform` to apply the OneHot transform to the data, the transform can be applied to other (e.g. test) datasets.\n"
   ]
  },
  {
   "cell_type": "code",
   "execution_count": null,
   "metadata": {},
   "outputs": [],
   "source": [
    "restaurant = pd.read_csv('restaurant.csv',index_col = 'No')\n",
    "y = restaurant.pop('WillWait?').values\n",
    "X = restaurant.values\n",
    "X[:3,]"
   ]
  },
  {
   "cell_type": "code",
   "execution_count": null,
   "metadata": {},
   "outputs": [],
   "source": [
    "onehot_encoder = OneHotEncoder(sparse_output=False)  # We can add drop='first'\n",
    "restOH = onehot_encoder.fit(restaurant)\n",
    "restOH_data = restOH.transform(restaurant)"
   ]
  },
  {
   "cell_type": "code",
   "execution_count": null,
   "metadata": {},
   "outputs": [],
   "source": [
    "restaurant.columns"
   ]
  },
  {
   "cell_type": "code",
   "execution_count": null,
   "metadata": {},
   "outputs": [],
   "source": [
    "restOH.get_feature_names_out(restaurant.columns)"
   ]
  },
  {
   "cell_type": "code",
   "execution_count": null,
   "metadata": {},
   "outputs": [],
   "source": [
    "rtree = DecisionTreeClassifier(criterion='entropy')\n",
    "rtreeOH = rtree.fit(restOH_data,y)\n",
    "fig, ax = plt.subplots(figsize=(9, 9))\n",
    "tree.plot_tree(rtreeOH, \n",
    "               feature_names=list(restOH.get_feature_names_out(restaurant.columns)),\n",
    "               class_names=['Yes','No'], fontsize = 10, \n",
    "               filled=True, rounded=True)\n",
    "None # supressing the verbose return from plot_tree"
   ]
  },
  {
   "cell_type": "markdown",
   "metadata": {},
   "source": [
    "---\n",
    "<h1><span style=\"color:red\">Bonus Material</span></h1>\n",
    "\n",
    "\n",
    "\n",
    "## Encoding Restaurant data using `get_dummies`"
   ]
  },
  {
   "cell_type": "code",
   "execution_count": null,
   "metadata": {},
   "outputs": [],
   "source": [
    "rest1 = pd.get_dummies(restaurant,drop_first=False)\n",
    "rest2 = pd.get_dummies(restaurant,drop_first=True)"
   ]
  },
  {
   "cell_type": "code",
   "execution_count": null,
   "metadata": {
    "scrolled": false
   },
   "outputs": [],
   "source": [
    "rest1.head()"
   ]
  },
  {
   "cell_type": "code",
   "execution_count": null,
   "metadata": {},
   "outputs": [],
   "source": [
    "rest2.head()"
   ]
  },
  {
   "cell_type": "code",
   "execution_count": null,
   "metadata": {},
   "outputs": [],
   "source": [
    "X = rest1.values"
   ]
  },
  {
   "cell_type": "code",
   "execution_count": null,
   "metadata": {},
   "outputs": [],
   "source": [
    "rtree1 = DecisionTreeClassifier(criterion='entropy')\n",
    "rtree1.fit(rest1,y) # fit method can be called directly on the data frame\n",
    "rtree1.fit(X,y)"
   ]
  },
  {
   "cell_type": "code",
   "execution_count": null,
   "metadata": {},
   "outputs": [],
   "source": [
    "fig, ax = plt.subplots(figsize=(8, 8))\n",
    "tree.plot_tree(rtree1, feature_names=list(rest1.columns),\n",
    "                      class_names=['Yes','No'], fontsize = 9,\n",
    "                      filled=True, rounded=True)\n",
    "None # supressing the verbose return from plot_tree"
   ]
  },
  {
   "cell_type": "code",
   "execution_count": null,
   "metadata": {},
   "outputs": [],
   "source": [
    "rtree2 = DecisionTreeClassifier(criterion='entropy')\n",
    "X2 = rest2.values\n",
    "rtree2.fit(X2,y)\n",
    "fig, ax = plt.subplots(figsize=(8, 8))\n",
    "tree.plot_tree(rtree2, feature_names=list(rest2.columns),\n",
    "                      class_names=['Yes','No'], fontsize = 9,\n",
    "                      filled=True, rounded=True)\n",
    "None # supressing the verbose return from plot_tree"
   ]
  },
  {
   "cell_type": "code",
   "execution_count": null,
   "metadata": {},
   "outputs": [],
   "source": []
  },
  {
   "cell_type": "code",
   "execution_count": null,
   "metadata": {},
   "outputs": [],
   "source": []
  }
 ],
 "metadata": {
  "kernelspec": {
   "display_name": "Python 3 (ipykernel)",
   "language": "python",
   "name": "python3"
  },
  "language_info": {
   "codemirror_mode": {
    "name": "ipython",
    "version": 3
   },
   "file_extension": ".py",
   "mimetype": "text/x-python",
   "name": "python",
   "nbconvert_exporter": "python",
   "pygments_lexer": "ipython3",
   "version": "3.11.4"
  }
 },
 "nbformat": 4,
 "nbformat_minor": 2
}
