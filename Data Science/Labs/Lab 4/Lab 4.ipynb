{
 "cells": [
  {
   "cell_type": "markdown",
   "metadata": {},
   "source": [
    "# Lab 4 Tasks - Solution"
   ]
  },
  {
   "cell_type": "markdown",
   "metadata": {},
   "source": [
    "## Task 1 - JSON Parsing"
   ]
  },
  {
   "cell_type": "markdown",
   "metadata": {},
   "source": [
    "Use Python to download a file containing movie metadata in JSON format from the URL: \n",
    "\n",
    "http://mlg.ucd.ie/modules/COMP41680/movies.json"
   ]
  },
  {
   "cell_type": "code",
   "execution_count": null,
   "metadata": {},
   "outputs": [],
   "source": [
    "import urllib.request\n",
    "url = \"http://mlg.ucd.ie/modules/COMP41680/movies.json\"\n",
    "response = urllib.request.urlopen(url)\n",
    "raw_json = response.read().decode()\n",
    "print(raw_json)"
   ]
  },
  {
   "cell_type": "markdown",
   "metadata": {},
   "source": [
    "Parse the JSON data that you have downloaded."
   ]
  },
  {
   "cell_type": "code",
   "execution_count": null,
   "metadata": {},
   "outputs": [],
   "source": [
    "import json\n",
    "movie_data = json.loads(raw_json)\n",
    "print(movie_data)"
   ]
  },
  {
   "cell_type": "markdown",
   "metadata": {},
   "source": [
    "From the parsed JSON data, print a list of the all of the movie titles, along with the duration of each movie."
   ]
  },
  {
   "cell_type": "code",
   "execution_count": null,
   "metadata": {},
   "outputs": [],
   "source": [
    "for movie in movie_data:\n",
    "    print(\"%s = %s\" % ( movie[\"Title\"], movie[\"Runtime\"] ) )"
   ]
  },
  {
   "cell_type": "markdown",
   "metadata": {},
   "source": [
    "Extract the genre information for each movie."
   ]
  },
  {
   "cell_type": "code",
   "execution_count": null,
   "metadata": {},
   "outputs": [],
   "source": [
    "for movie in movie_data:\n",
    "    genre_string = movie[\"Genre\"]\n",
    "    # we could parse the string to make it more useful\n",
    "    genres = genre_string.split(\",\")\n",
    "    print( \"%s = %s\" % ( movie[\"Title\"], genres ) )"
   ]
  },
  {
   "cell_type": "markdown",
   "metadata": {},
   "source": [
    "Export the complete movie data to a new file in CSV format."
   ]
  },
  {
   "cell_type": "code",
   "execution_count": null,
   "metadata": {},
   "outputs": [],
   "source": [
    "import csv\n",
    "# open the output file for writing\n",
    "fout = open(\"movies.csv\", \"w\")\n",
    "# specify the ordered list of fields in our movie data\n",
    "fields = ['Title', 'Year', 'Rated', 'Runtime',  'Genre',  'Director',  'Actors',  'Country',  'RatingScore', 'Type']\n",
    "writer = csv.DictWriter(fout, fieldnames=fields)\n",
    "# write the header row\n",
    "writer.writeheader()\n",
    "# write each row of data\n",
    "for movie in movie_data:\n",
    "    writer.writerow(movie)\n",
    "fout.close()"
   ]
  },
  {
   "cell_type": "markdown",
   "metadata": {},
   "source": [
    "## Task 2 - XML Parsing"
   ]
  },
  {
   "cell_type": "markdown",
   "metadata": {},
   "source": [
    "Use Python to download a file containing a contact list in XML format from the URL: \n",
    "\n",
    "http://mlg.ucd.ie/modules/COMP41680/contacts.xml"
   ]
  },
  {
   "cell_type": "code",
   "execution_count": null,
   "metadata": {},
   "outputs": [],
   "source": [
    "url = \"http://mlg.ucd.ie/modules/COMP41680/contacts.xml\"\n",
    "response = urllib.request.urlopen(url)\n",
    "raw_xml = response.read().decode()\n",
    "print(raw_xml)"
   ]
  },
  {
   "cell_type": "markdown",
   "metadata": {},
   "source": [
    "Parse the XML data that you have downloaded."
   ]
  },
  {
   "cell_type": "code",
   "execution_count": null,
   "metadata": {},
   "outputs": [],
   "source": [
    "import xml.etree.ElementTree\n",
    "tree = xml.etree.ElementTree.fromstring(raw_xml)"
   ]
  },
  {
   "cell_type": "markdown",
   "metadata": {},
   "source": [
    "From the parsed XML data, extract the name, email address and phone number of each contact. \n",
    "\n",
    "Store these contacts in a list of dictionaries, and print them out."
   ]
  },
  {
   "cell_type": "code",
   "execution_count": null,
   "metadata": {},
   "outputs": [],
   "source": [
    "contacts = []\n",
    "for entry in tree.findall(\"contact\"):\n",
    "    contact = {}\n",
    "    contact[\"name\"] = entry.find(\"name\").text\n",
    "    contact[\"email\"] = entry.find(\"email\").text\n",
    "    contact[\"phone\"] = entry.find(\"phone\").text\n",
    "    contacts.append(contact)\n",
    "print(\"Parsed %d contacts\" % len(contacts))"
   ]
  },
  {
   "cell_type": "code",
   "execution_count": null,
   "metadata": {},
   "outputs": [],
   "source": [
    "for contact in contacts:\n",
    "    print(\"%s:\\temail=%s\\tphone=%s\" % ( contact[\"name\"], contact[\"email\"], contact[\"phone\"] ) )"
   ]
  },
  {
   "cell_type": "markdown",
   "metadata": {},
   "source": [
    "Export the contact data to a new file in CSV format."
   ]
  },
  {
   "cell_type": "code",
   "execution_count": null,
   "metadata": {},
   "outputs": [],
   "source": [
    "import csv\n",
    "# open the output file for writing\n",
    "fout = open(\"contacts.csv\", \"w\")\n",
    "# specify the ordered list of fields in our data\n",
    "fields = [\"name\", \"email\", \"phone\"]\n",
    "writer = csv.DictWriter(fout, fieldnames=fields)\n",
    "# write the header row\n",
    "writer.writeheader()\n",
    "# write each row of data\n",
    "for contact in contacts:\n",
    "    writer.writerow(contact)\n",
    "fout.close()"
   ]
  },
  {
   "cell_type": "markdown",
   "metadata": {},
   "source": [
    "Use Pickle to serialise the contact data to a file. Verify that you can deseralise the data again."
   ]
  },
  {
   "cell_type": "code",
   "execution_count": null,
   "metadata": {},
   "outputs": [],
   "source": [
    "import pickle\n",
    "# use Pickle to write the contact data out to a file\n",
    "fout = open(\"contacts.pkl\", \"wb\")\n",
    "pickle.dump(contacts, fout)\n",
    "fout.close()"
   ]
  },
  {
   "cell_type": "code",
   "execution_count": null,
   "metadata": {},
   "outputs": [],
   "source": [
    "# verify that this worked by reading it back in again\n",
    "fin = open(\"contacts.pkl\", \"rb\")\n",
    "backup = pickle.load(fin)\n",
    "fin.close()\n",
    "print(\"Read %d contacts\" % len(backup))\n",
    "for contact in backup:\n",
    "    print(\"%s:\\temail=%s\\tphone=%s\" % ( contact[\"name\"], contact[\"email\"], contact[\"phone\"] ) )"
   ]
  }
 ],
 "metadata": {
  "kernelspec": {
   "display_name": "Python 3 (ipykernel)",
   "language": "python",
   "name": "python3"
  },
  "language_info": {
   "codemirror_mode": {
    "name": "ipython",
    "version": 3
   },
   "file_extension": ".py",
   "mimetype": "text/x-python",
   "name": "python",
   "nbconvert_exporter": "python",
   "pygments_lexer": "ipython3",
   "version": "3.9.7"
  }
 },
 "nbformat": 4,
 "nbformat_minor": 1
}
