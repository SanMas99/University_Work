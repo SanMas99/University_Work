{
 "cells": [
  {
   "cell_type": "markdown",
   "metadata": {},
   "source": [
    "# Lab 2 Tasks - Solutions"
   ]
  },
  {
   "cell_type": "markdown",
   "metadata": {},
   "source": [
    "## Task 1\n",
    "\n",
    "Create a function *sorted_random()* which generates a list of *n* random numbers, sorted in descending order (i.e. largest first). The number *n* should be an input argument for the function. If no value is specified for *n*, by default a list of 10 numbers should be generated."
   ]
  },
  {
   "cell_type": "code",
   "execution_count": null,
   "metadata": {},
   "outputs": [],
   "source": [
    "# first we need to import the random number generation module\n",
    "import random"
   ]
  },
  {
   "cell_type": "code",
   "execution_count": null,
   "metadata": {},
   "outputs": [],
   "source": [
    "# define our new function\n",
    "def sorted_random(n=10):\n",
    "    numbers = []\n",
    "    for i in range(n):\n",
    "        # generate the next random number and add it to our list\n",
    "        numbers.append(random.random())\n",
    "    # sort the numbers in descending order\n",
    "    numbers.sort(reverse=True)\n",
    "    return numbers"
   ]
  },
  {
   "cell_type": "code",
   "execution_count": null,
   "metadata": {},
   "outputs": [],
   "source": [
    "# test our function\n",
    "print(sorted_random(2))\n",
    "print(sorted_random(4))\n",
    "# test with the default argument value\n",
    "print(sorted_random())"
   ]
  },
  {
   "cell_type": "markdown",
   "metadata": {},
   "source": [
    "## Task 2\n",
    "\n",
    "Download the comma-separated file *scores.csv* from the module Brightspace page and save it to the same directory as your notebook. \n",
    "\n",
    "Write a function *display_numbers()* which takes one argument - an input file path. The function should read floating point numbers from each line in the specified file, and compute the total for the values on each line. Print each total to 2 decimal places. \n",
    "\n",
    "Apply the function *display_numbers()* to *scores.csv*."
   ]
  },
  {
   "cell_type": "code",
   "execution_count": null,
   "metadata": {},
   "outputs": [],
   "source": [
    "def display_numbers(in_path):\n",
    "    fin = open(in_path,\"r\")\n",
    "    for l in fin.readlines():\n",
    "        l = l.strip()\n",
    "        parts = l.split(\",\")\n",
    "        values = []\n",
    "        for s in parts:\n",
    "            values.append(float(s))\n",
    "        print(\"%.2f\" % sum(values))\n",
    "    fin.close()"
   ]
  },
  {
   "cell_type": "code",
   "execution_count": null,
   "metadata": {},
   "outputs": [],
   "source": [
    "display_numbers(\"scores.csv\")"
   ]
  },
  {
   "cell_type": "markdown",
   "metadata": {
    "collapsed": true
   },
   "source": [
    "## Task 3\n",
    "\n",
    "Write a function *reverse_numbers()* which takes two arguments - an input file path and an output file path. The function should read floating point numbers from each line in the specified input file. The order of the values from in line should then be reversed, and these lines should be written to the specifed output file.\n",
    "\n",
    "Apply the function *reverse_numbers()* to the file *scores.csv* from Task 1 to create a new output file *reversed.csv*."
   ]
  },
  {
   "cell_type": "code",
   "execution_count": null,
   "metadata": {},
   "outputs": [],
   "source": [
    "def reverse_numbers(in_path, out_path):\n",
    "    fin = open(in_path, \"r\")\n",
    "    fout = open(out_path, \"w\")        \n",
    "    for l in fin.readlines():\n",
    "        # read each line\n",
    "        l = l.strip()\n",
    "        parts = l.split(\",\")\n",
    "        # reverse the list\n",
    "        parts.reverse()\n",
    "        # write the values in the list, using comma separatos\n",
    "        fout.write(\",\".join(parts))\n",
    "        # add new line character\n",
    "        fout.write(\"\\n\")\n",
    "    fin.close()\n",
    "    fout.close()"
   ]
  },
  {
   "cell_type": "code",
   "execution_count": null,
   "metadata": {},
   "outputs": [],
   "source": [
    "reverse_numbers(\"scores.csv\", \"reversed.csv\")"
   ]
  },
  {
   "cell_type": "markdown",
   "metadata": {},
   "source": [
    "## Task 4\n",
    "\n",
    "Download the comma-separated file *worldcup.csv* from the module Brightspace page and save it to the same directory as your notebook. This data file contains a list of the winners and runners-up for all FIFA World Cup finals, one final per line.\n",
    "\n",
    "Write a function *count_finalists()* which takes a single argument (an input file path), reads the data, and displays the number of times each country has appeared in a World Cup final. Countries should be displayed in alphabetical order.\n",
    "\n",
    "Apply the function *count_finalists()* to the file *worldcup.csv*."
   ]
  },
  {
   "cell_type": "code",
   "execution_count": null,
   "metadata": {},
   "outputs": [],
   "source": [
    "def count_finalists(in_path):\n",
    "    # read the data from the file\n",
    "    fin = open(in_path, \"r\")\n",
    "    lines = fin.readlines()\n",
    "    fin.close()\n",
    "    # skip the header line and process the rest\n",
    "    counts = {}\n",
    "    for line in lines[1:]:\n",
    "        parts = line.strip().split(\",\")\n",
    "        winner = parts[1]\n",
    "        runner_up = parts[2]\n",
    "        if not winner in counts:\n",
    "            counts[winner] = 0\n",
    "        counts[winner] += 1\n",
    "        if not runner_up in counts:\n",
    "            counts[runner_up] = 0\n",
    "        counts[runner_up] += 1\n",
    "    # sort country names alphabetically\n",
    "    countries = sorted(counts.keys())\n",
    "    for country in countries:\n",
    "        print(\"%d\\t%s\" % (counts[country], country))"
   ]
  },
  {
   "cell_type": "code",
   "execution_count": null,
   "metadata": {},
   "outputs": [],
   "source": [
    "count_finalists(\"worldcup.csv\")"
   ]
  },
  {
   "cell_type": "markdown",
   "metadata": {},
   "source": [
    "Note that, if we wanted to sort the countries in descending order by the number of times that they have appeared in a final, we could use the *sorted()* function as shown below:"
   ]
  },
  {
   "cell_type": "code",
   "execution_count": null,
   "metadata": {},
   "outputs": [],
   "source": [
    "def count_finalists_v2(in_path):\n",
    "    # read the data from the file\n",
    "    fin = open(in_path, \"r\")\n",
    "    lines = fin.readlines()\n",
    "    fin.close()\n",
    "    # skip the header line and process the rest\n",
    "    counts = {}\n",
    "    for line in lines[1:]:\n",
    "        parts = line.strip().split(\",\")\n",
    "        winner = parts[1]\n",
    "        runner_up = parts[2]\n",
    "        if not winner in counts:\n",
    "            counts[winner] = 0\n",
    "        counts[winner] += 1\n",
    "        if not runner_up in counts:\n",
    "            counts[runner_up] = 0\n",
    "        counts[runner_up] += 1\n",
    "    # sort countries by their corresponding count\n",
    "    for country in sorted(counts, key=counts.get, reverse=True):\n",
    "        print(\"%d\\t%s\" % (counts[country], country))       "
   ]
  },
  {
   "cell_type": "code",
   "execution_count": null,
   "metadata": {},
   "outputs": [],
   "source": [
    "count_finalists_v2(\"worldcup.csv\")"
   ]
  }
 ],
 "metadata": {
  "kernelspec": {
   "display_name": "Python 3 (ipykernel)",
   "language": "python",
   "name": "python3"
  },
  "language_info": {
   "codemirror_mode": {
    "name": "ipython",
    "version": 3
   },
   "file_extension": ".py",
   "mimetype": "text/x-python",
   "name": "python",
   "nbconvert_exporter": "python",
   "pygments_lexer": "ipython3",
   "version": "3.11.4"
  }
 },
 "nbformat": 4,
 "nbformat_minor": 1
}
