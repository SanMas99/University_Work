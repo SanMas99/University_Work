{
 "cells": [
  {
   "cell_type": "markdown",
   "metadata": {},
   "source": [
    "# Lab 9 Tasks - Solution\n",
    "\n",
    "In this notebook we will use regression techniques to analyse a subset of the [2019 World Happiness Index Report](https://worldhappiness.report/) dataset. In this dataset each row represents a country, with the following features:\n",
    "\n",
    "- *country*: name of the country for each row\n",
    "- *gdp*: real GDP per capita\n",
    "- *social_support*: amount of social support that is present in a country\n",
    "- *health*: healthy life expectancy,\n",
    "- *freedom*: freedom to make life choices \n",
    "- *generosity*: leve of generosity of citizens\n",
    "- *corruption*: perceptions of corruption in a country"
   ]
  },
  {
   "cell_type": "markdown",
   "metadata": {},
   "source": [
    "## Task 1\n",
    "\n",
    "Download the World Happiness Index data from the link below, and load the data into a Pandas DataFrame.\n",
    "\n",
    "http://mlg.ucd.ie/modules/COMP41680/happiness2019.csv"
   ]
  },
  {
   "cell_type": "code",
   "execution_count": null,
   "metadata": {},
   "outputs": [],
   "source": [
    "import pandas as pd\n",
    "# Pandas can download the data directly from the URL\n",
    "df = pd.read_csv(\"http://mlg.ucd.ie/modules/COMP41680/happiness2019.csv\", index_col=\"country\")\n",
    "df.head(10)"
   ]
  },
  {
   "cell_type": "markdown",
   "metadata": {},
   "source": [
    "## Task 2 \n",
    "\n",
    "Calculate basic summary statistics for the data. List the top 5 ranked countries for each measure."
   ]
  },
  {
   "cell_type": "code",
   "execution_count": null,
   "metadata": {},
   "outputs": [],
   "source": [
    "df.describe()"
   ]
  },
  {
   "cell_type": "code",
   "execution_count": null,
   "metadata": {},
   "outputs": [],
   "source": [
    "from IPython.display import display\n",
    "for column in df.columns:\n",
    "    print(\"Top countries by %s\" % column )\n",
    "    display(df.nlargest(5, column)[[column]])"
   ]
  },
  {
   "cell_type": "markdown",
   "metadata": {},
   "source": [
    "Generate a boxplot of the measures in the dataset. \n",
    "\n",
    "Do you see any **outliers** for any of the measures?"
   ]
  },
  {
   "cell_type": "code",
   "execution_count": null,
   "metadata": {},
   "outputs": [],
   "source": [
    "import matplotlib.pyplot as plt\n",
    "%matplotlib inline\n",
    "# generate the box plot\n",
    "df.boxplot(figsize=(12,7), fontsize=13)\n",
    "plt.xlabel(\"Measure\", fontsize=13)\n",
    "plt.ylabel(\"Measure Score\", fontsize=13);"
   ]
  },
  {
   "cell_type": "markdown",
   "metadata": {},
   "source": [
    "In the above we can spot potential outliers that appear above or below the T-bars of each boxplot (i.e. the circles above/below the maximum/minimum limits of the boxplot). For instance, we see some lower outliers for the measures *social_support*, *health* and *freedom*, while we see some upper outliers for *generosity* and *corruption*."
   ]
  },
  {
   "cell_type": "markdown",
   "metadata": {},
   "source": [
    "## Task 3\n",
    "\n",
    "Calculate the correlations between the different variables in the data. \n",
    "\n",
    "Which pair of variables are: (i) the most highly correlated; (ii) the least correlated?"
   ]
  },
  {
   "cell_type": "code",
   "execution_count": null,
   "metadata": {},
   "outputs": [],
   "source": [
    "# calculate the pairwise correlations\n",
    "df_c = df.corr()\n",
    "df_c"
   ]
  },
  {
   "cell_type": "code",
   "execution_count": null,
   "metadata": {},
   "outputs": [],
   "source": [
    "# we could turn this into a sorted DataFrame to show us a ranking for the pairs of variables\n",
    "# with the highest and lowest correlation\n",
    "from itertools import combinations\n",
    "rows = []\n",
    "for v1, v2 in combinations(df_c.columns, 2):\n",
    "    rows.append({\"Variable 1\": v1, \"Variable 2\": v2, \"Correlation\": df_c[v1][v2]})\n",
    "# show the ranked list\n",
    "pd.DataFrame(rows).sort_values(by=\"Correlation\", ascending=False)"
   ]
  },
  {
   "cell_type": "markdown",
   "metadata": {},
   "source": [
    "## Task 4\n",
    "\n",
    "Apply a **simple linear regression** to learn (fit) the model, where *gdp* is the independent variable and *health* is the target variable that we would like to predict. Produce a plot of the regression line."
   ]
  },
  {
   "cell_type": "code",
   "execution_count": null,
   "metadata": {},
   "outputs": [],
   "source": [
    "# Get the columns\n",
    "x = df[[\"gdp\"]].values\n",
    "y = df[[\"health\"]].values\n",
    "# Now build the regression model\n",
    "from sklearn.linear_model import LinearRegression\n",
    "model = LinearRegression()\n",
    "model.fit(x, y)\n",
    "print(\"Coefficient (slope): %.4f\" % model.coef_[0])\n",
    "print(\"Intercept: %.4f\" % model.intercept_)\n",
    "# plot the data\n",
    "plt.figure(figsize=(9,6))\n",
    "plt.scatter(x, y)\n",
    "# plot the regression line\n",
    "m = model.coef_[0]\n",
    "b = model.intercept_\n",
    "plt.plot([min(x), max(x)], [b, m*max(x) + b], 'r')\n",
    "plt.xlabel('GDP', fontsize=13)\n",
    "plt.ylabel('Health', fontsize=13);"
   ]
  },
  {
   "cell_type": "markdown",
   "metadata": {},
   "source": [
    "## Task 5\n",
    "\n",
    "Repeat the process from Task 4, but this time use *generosity* as the **target** variable. What does a comparison of the two regression lines indicate?"
   ]
  },
  {
   "cell_type": "code",
   "execution_count": null,
   "metadata": {},
   "outputs": [],
   "source": [
    "# Get the columns\n",
    "x = df[[\"gdp\"]].values\n",
    "y = df[[\"generosity\"]].values\n",
    "# Now build the regression model\n",
    "from sklearn.linear_model import LinearRegression\n",
    "model = LinearRegression()\n",
    "model.fit(x, y)\n",
    "print(\"Coefficient (slope): %.4f\" % model.coef_[0])\n",
    "print(\"Intercept: %.4f\" % model.intercept_)\n",
    "# plot the data\n",
    "plt.figure(figsize=(9,6))\n",
    "plt.scatter(x, y)\n",
    "# plot the regression line\n",
    "m = model.coef_[0]\n",
    "b = model.intercept_\n",
    "plt.plot([min(x), max(x)], [b, m*max(x) + b], 'r')\n",
    "plt.xlabel('GDP', fontsize=14)\n",
    "plt.ylabel('Generosity', fontsize=14);"
   ]
  },
  {
   "cell_type": "markdown",
   "metadata": {},
   "source": [
    "There appears to be a strong correlation between GDP per capita and healthy life expectancy, for far less correlation between GDP per capita and generosity (i.e. level of charitable donations)."
   ]
  }
 ],
 "metadata": {
  "kernelspec": {
   "display_name": "Python 3 (ipykernel)",
   "language": "python",
   "name": "python3"
  },
  "language_info": {
   "codemirror_mode": {
    "name": "ipython",
    "version": 3
   },
   "file_extension": ".py",
   "mimetype": "text/x-python",
   "name": "python",
   "nbconvert_exporter": "python",
   "pygments_lexer": "ipython3",
   "version": "3.11.4"
  }
 },
 "nbformat": 4,
 "nbformat_minor": 1
}
