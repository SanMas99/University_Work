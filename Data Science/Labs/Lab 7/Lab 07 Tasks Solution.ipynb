{
 "cells": [
  {
   "cell_type": "markdown",
   "metadata": {},
   "source": [
    "# Lab 7 Tasks - Solution\n",
    "\n",
    "In this notebook we will analyse a dataset from an Irish triathlon by using the Pandas library. In the dataset, each row represents an athlete, described by a number of different descriptive features:\n",
    "\n",
    "- *Number:* The athlete's race bib number\n",
    "- *Place:* The place in which the athlete finished the race\n",
    "- *Age:* The athlete's age\n",
    "- *Gender:* The gender that the athlete declared ('M' or 'F')\n",
    "- *Province:* The Irish province where the athlete comes from (Leinster, Munster, Connacht, Ulster)\n",
    "- *Swim:* The time taken for the swimming segment of the event (in seconds)\n",
    "- *T1:* The time taken for the first transition of the event, from cycling to swimming (in seconds)\n",
    "- *Cycle:* The time taken for the cycling segment of the event (in seconds)\n",
    "- *T2:* The time taken for the swimming segment of the event, from swimming to running (in seconds)\n",
    "- *Run:* The time taken for the running segment of the event (in seconds)"
   ]
  },
  {
   "cell_type": "code",
   "execution_count": null,
   "metadata": {},
   "outputs": [],
   "source": [
    "import pandas as pd\n",
    "import matplotlib\n",
    "import matplotlib.pyplot as plt\n",
    "%matplotlib inline"
   ]
  },
  {
   "cell_type": "markdown",
   "metadata": {},
   "source": [
    "## Task 1 - Data Loading and Preparation"
   ]
  },
  {
   "cell_type": "markdown",
   "metadata": {},
   "source": [
    "Use Python to download a file containing triathlon dataset in CSV format from the URL:\n",
    "\n",
    "http://mlg.ucd.ie/modules/COMP41680/triathlon.csv\n",
    "\n",
    "Load the dataset into a Pandas DataFrame, where the row index will be given by the athlete's bib number. Display the first 20 rows of the DataFrame."
   ]
  },
  {
   "cell_type": "code",
   "execution_count": null,
   "metadata": {},
   "outputs": [],
   "source": [
    "# we could either download the file using urllib, or we can use Pandas to do this for us\n",
    "df = pd.read_csv(\"http://mlg.ucd.ie/modules/COMP41680/triathlon.csv\", index_col=\"Number\")"
   ]
  },
  {
   "cell_type": "code",
   "execution_count": null,
   "metadata": {},
   "outputs": [],
   "source": [
    "# display first 20 rows\n",
    "df.head(20)"
   ]
  },
  {
   "cell_type": "markdown",
   "metadata": {},
   "source": [
    "The dataset might contain missing values. For instance, some athletes may have registered for the race for never actually. Other athletes might have started the race, but not completed all segments of the triathlon.\n",
    "\n",
    "From the DataFrame, identify the number of missing values in each column. Then remove any rows which contain missing values (i.e. athletes who did not fullly complete the race). How many rows are remaining?"
   ]
  },
  {
   "cell_type": "code",
   "execution_count": null,
   "metadata": {},
   "outputs": [],
   "source": [
    "# count number of missing values per column\n",
    "df.isna().sum()"
   ]
  },
  {
   "cell_type": "code",
   "execution_count": null,
   "metadata": {},
   "outputs": [],
   "source": [
    "# number of rows currently\n",
    "print(\"Data contains %d rows\" % len(df))\n",
    "# remove the rows with missing values\n",
    "df = df.dropna()\n",
    "# how many rows left?\n",
    "print(\"Data now contains %d rows\" % len(df))"
   ]
  },
  {
   "cell_type": "markdown",
   "metadata": {},
   "source": [
    "Add a new column to the DataFrame, called *Finish*, which is the total time taken for the race for each athlete (i.e. Swim + T1 + Cycle + T2 + Run)."
   ]
  },
  {
   "cell_type": "code",
   "execution_count": null,
   "metadata": {},
   "outputs": [],
   "source": [
    "# add the times for the different segments together\n",
    "df[\"Finish\"] = df[\"Swim\"] + df[\"T1\"] + df[\"Cycle\"] + df[\"T2\"] + df[\"Run\"]"
   ]
  },
  {
   "cell_type": "markdown",
   "metadata": {},
   "source": [
    "To verify the step above, sort the DataFrame, based on the *Finish* time, fastest to slowest. Display the top 10 fastest athletes overall:"
   ]
  },
  {
   "cell_type": "code",
   "execution_count": null,
   "metadata": {},
   "outputs": [],
   "source": [
    "df.sort_values(by=\"Finish\").head(10)"
   ]
  },
  {
   "cell_type": "markdown",
   "metadata": {},
   "source": [
    "## Task 2 - Data Analysis"
   ]
  },
  {
   "cell_type": "markdown",
   "metadata": {},
   "source": [
    "What is the average finishing time for athletes? What is the slowest finishing time?"
   ]
  },
  {
   "cell_type": "code",
   "execution_count": null,
   "metadata": {},
   "outputs": [],
   "source": [
    "# average time\n",
    "print(\"Mean finish time = %.2f\" % df[\"Finish\"].mean())\n",
    "# slowest time\n",
    "print(\"Slowest finish time = %.2f\" % df[\"Finish\"].max())"
   ]
  },
  {
   "cell_type": "markdown",
   "metadata": {},
   "source": [
    "On average which segment of the race took the longest: swimming, cycling or running?"
   ]
  },
  {
   "cell_type": "code",
   "execution_count": null,
   "metadata": {},
   "outputs": [],
   "source": [
    "# calculate the averages for each segment\n",
    "mean_swim = df[\"Swim\"].mean()\n",
    "mean_cycle = df[\"Cycle\"].mean()\n",
    "mean_run = df[\"Run\"].mean()\n",
    "# check which took longest\n",
    "if mean_swim > mean_cycle and mean_swim > mean_run:\n",
    "    print(\"Swimming took longest\")\n",
    "elif mean_cycle > mean_swim and mean_cycle > mean_run:\n",
    "    print(\"Cycling took longest\")\n",
    "else:\n",
    "    print(\"Running took longest\")"
   ]
  },
  {
   "cell_type": "markdown",
   "metadata": {},
   "source": [
    "How many female and male athletes competed in the race? How many athletes from each Irish province competed in the race? "
   ]
  },
  {
   "cell_type": "code",
   "execution_count": null,
   "metadata": {},
   "outputs": [],
   "source": [
    "# create a frequency table for gender\n",
    "df[\"Gender\"].value_counts()"
   ]
  },
  {
   "cell_type": "code",
   "execution_count": null,
   "metadata": {},
   "outputs": [],
   "source": [
    "# create a frequency table for province\n",
    "df[\"Province\"].value_counts()"
   ]
  },
  {
   "cell_type": "markdown",
   "metadata": {},
   "source": [
    "Create a new column 'AgeCategory' that divides the ages into age categories: 16-19, 20-29, 30-39, 40-49, 50-65."
   ]
  },
  {
   "cell_type": "code",
   "execution_count": null,
   "metadata": {},
   "outputs": [],
   "source": [
    "bins = [16, 20, 30, 40, 50, 65]\n",
    "# here we specify right=False to exclude the rightmost edge\n",
    "df[\"AgeCategory\"] = pd.cut(df[\"Age\"], bins=bins, right=False)\n",
    "df.head()"
   ]
  },
  {
   "cell_type": "markdown",
   "metadata": {},
   "source": [
    "How many female and male athletes were from each age catgory? How many female and male athletes were from each of the 4 provinces? "
   ]
  },
  {
   "cell_type": "code",
   "execution_count": null,
   "metadata": {},
   "outputs": [],
   "source": [
    "# apply a cross-tabulation on the next two columns\n",
    "pd.crosstab(df[\"AgeCategory\"], df[\"Gender\"])"
   ]
  },
  {
   "cell_type": "code",
   "execution_count": null,
   "metadata": {},
   "outputs": [],
   "source": [
    "# apply a cross-tabulation on these two columns\n",
    "pd.crosstab(df[\"Province\"], df[\"Gender\"])"
   ]
  },
  {
   "cell_type": "markdown",
   "metadata": {},
   "source": [
    "What were the average times for the three segments, per age category?"
   ]
  },
  {
   "cell_type": "code",
   "execution_count": null,
   "metadata": {},
   "outputs": [],
   "source": [
    "# first aggregate by age category\n",
    "groups = df.groupby(\"AgeCategory\")\n",
    "# now calculate the means for the three segments\n",
    "groups.mean(numeric_only = True)[[\"Swim\", \"Cycle\", \"Run\"]]"
   ]
  },
  {
   "cell_type": "markdown",
   "metadata": {},
   "source": [
    "## Task 3 - Data Visualisation"
   ]
  },
  {
   "cell_type": "markdown",
   "metadata": {},
   "source": [
    "Use bar charts to visualise:\n",
    "1. The number of athletes per age category\n",
    "2. The number of athletes per province"
   ]
  },
  {
   "cell_type": "code",
   "execution_count": null,
   "metadata": {},
   "outputs": [],
   "source": [
    "# get the frequency counts\n",
    "age_counts = df[\"AgeCategory\"].value_counts()\n",
    "# plot the frequencies\n",
    "ax = age_counts.plot(kind=\"bar\", fontsize=13, color=\"navy\", figsize=(6, 5))\n",
    "plt.ylabel(\"Number of Athletes\", fontsize=13);"
   ]
  },
  {
   "cell_type": "code",
   "execution_count": null,
   "metadata": {},
   "outputs": [],
   "source": [
    "# get the frequency counts\n",
    "province_counts = df[\"Province\"].value_counts()\n",
    "# plot the frequencies\n",
    "ax = province_counts.plot(kind=\"bar\", fontsize=13, color=\"teal\", figsize=(6, 5))\n",
    "plt.ylabel(\"Number of Athletes\", fontsize=13);"
   ]
  },
  {
   "cell_type": "markdown",
   "metadata": {},
   "source": [
    "Produce a visualisation of the distribution of finish times:"
   ]
  },
  {
   "cell_type": "code",
   "execution_count": null,
   "metadata": {},
   "outputs": [],
   "source": [
    "ax = df[\"Finish\"].hist(bins=10, figsize=(8,5), color='green', grid=False, rwidth=0.9)\n",
    "plt.ylabel(\"Number of Athletes\", fontsize=13)\n",
    "plt.xlabel(\"Finish Time (seconds)\", fontsize=13);"
   ]
  },
  {
   "cell_type": "markdown",
   "metadata": {},
   "source": [
    "Repeat the above, but this time produce a visualisation of the distribution of finish times for female athletes only:"
   ]
  },
  {
   "cell_type": "code",
   "execution_count": null,
   "metadata": {},
   "outputs": [],
   "source": [
    "# filter based on gender first\n",
    "df2 = df[df[\"Gender\"]==\"F\"]\n",
    "# then generate the histogram\n",
    "ax = df2[\"Finish\"].hist(bins=10, figsize=(8,5), color='green', grid=False, rwidth=0.9)\n",
    "plt.ylabel(\"Number of Athletes\", fontsize=13)\n",
    "plt.xlabel(\"Finish Time (seconds)\", fontsize=13);"
   ]
  },
  {
   "cell_type": "markdown",
   "metadata": {},
   "source": [
    "Produce three plots which show: \n",
    "1. The relationship between the time taken for the swimming and cycling segments.\n",
    "2. The relationship between the time taken for the swimming and running segments.\n",
    "3. The relationship between the time taken for the cycling and running segments."
   ]
  },
  {
   "cell_type": "code",
   "execution_count": null,
   "metadata": {},
   "outputs": [],
   "source": [
    "ax = df.plot(kind=\"scatter\", figsize=(8,6), color='darkblue', s=40, fontsize=13, x=\"Swim\", y=\"Cycle\")\n",
    "plt.xlabel(\"Swimming Segment (seconds)\", fontsize=13)\n",
    "plt.ylabel(\"Cycling Segment (seconds)\", fontsize=13);"
   ]
  },
  {
   "cell_type": "code",
   "execution_count": null,
   "metadata": {},
   "outputs": [],
   "source": [
    "ax = df.plot(kind=\"scatter\", figsize=(8,6), color='darkorange', s=40, fontsize=13, x=\"Swim\", y=\"Run\")\n",
    "plt.xlabel(\"Swimming Segment (seconds)\", fontsize=13)\n",
    "plt.ylabel(\"Running Segment (seconds)\", fontsize=13);"
   ]
  },
  {
   "cell_type": "code",
   "execution_count": null,
   "metadata": {},
   "outputs": [],
   "source": [
    "ax = df.plot(kind=\"scatter\", figsize=(8,6), color='darkred', s=40, fontsize=13, x=\"Cycle\", y=\"Run\")\n",
    "plt.xlabel(\"Cycling Segment (seconds)\", fontsize=13)\n",
    "plt.ylabel(\"Running Segment (seconds)\", fontsize=13);"
   ]
  }
 ],
 "metadata": {
  "anaconda-cloud": {},
  "kernelspec": {
   "display_name": "Python 3 (ipykernel)",
   "language": "python",
   "name": "python3"
  },
  "language_info": {
   "codemirror_mode": {
    "name": "ipython",
    "version": 3
   },
   "file_extension": ".py",
   "mimetype": "text/x-python",
   "name": "python",
   "nbconvert_exporter": "python",
   "pygments_lexer": "ipython3",
   "version": "3.11.4"
  }
 },
 "nbformat": 4,
 "nbformat_minor": 1
}
