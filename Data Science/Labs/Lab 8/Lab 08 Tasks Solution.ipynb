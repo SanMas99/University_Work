{
 "cells": [
  {
   "cell_type": "markdown",
   "metadata": {},
   "source": [
    "# Lab 8 Tasks - Solution\n",
    "\n",
    "In this lab we will use NumPy to load and analyse daily temperature data collected for Sydney, Australia in 2016. The dataset contains 4 columns:\n",
    "- *MinTemp*: Minimum daily temperature (Degrees Celsius)\n",
    "- *MaxTemp*: Maximum daily temperature (Degrees Celsius)\n",
    "- *Temp9am*: Temperature at 9am (Degrees Celsius)\n",
    "- *Temp3pm*: Temperature at 3pm (Degrees Celsius)"
   ]
  },
  {
   "cell_type": "markdown",
   "metadata": {},
   "source": [
    "## Task 1 \n",
    "\n",
    "Use the Python *urllib.request* to download a numeric dataset in CSV (comma-separated) format and save it to disk: \n",
    "\n",
    "http://mlg.ucd.ie/modules/COMP41680/temperature.csv\n",
    "\n",
    "Use NumPy to load this dataset into a 2D NumPy array. Note that you should skip the first row of the file. See:\n",
    "\n",
    "https://numpy.org/doc/stable/reference/generated/numpy.loadtxt.html\n",
    "\n",
    "Check the size of the array which has been loaded."
   ]
  },
  {
   "cell_type": "code",
   "execution_count": null,
   "metadata": {},
   "outputs": [],
   "source": [
    "# retrieve the remote file\n",
    "import urllib.request\n",
    "url = \"http://mlg.ucd.ie/modules/COMP41680/temperature.csv\"\n",
    "response = urllib.request.urlopen(url)\n",
    "raw_csv = response.read().decode()"
   ]
  },
  {
   "cell_type": "code",
   "execution_count": null,
   "metadata": {},
   "outputs": [],
   "source": [
    "# save the file\n",
    "fout = open(\"temperature.csv\",\"w\")\n",
    "fout.write(raw_csv)\n",
    "fout.close()"
   ]
  },
  {
   "cell_type": "code",
   "execution_count": null,
   "metadata": {},
   "outputs": [],
   "source": [
    "import numpy as np\n",
    "data = np.loadtxt(\"temperature.csv\", delimiter=\",\", skiprows=1)\n",
    "data"
   ]
  },
  {
   "cell_type": "code",
   "execution_count": null,
   "metadata": {},
   "outputs": [],
   "source": [
    "print(\"Data has %d rows and %d columns\" % data.shape)"
   ]
  },
  {
   "cell_type": "markdown",
   "metadata": {},
   "source": [
    "## Task 2\n",
    "\n",
    "Calculate basic summary statistics for the overall data."
   ]
  },
  {
   "cell_type": "code",
   "execution_count": null,
   "metadata": {},
   "outputs": [],
   "source": [
    "print(\"Range is [%.1f, %.1f]\" % (data.min(), data.max()))\n",
    "print(\"Mean is %.1f\" % data.mean() )\n",
    "print(\"Standard deviation is %.1f\" % data.std())"
   ]
  },
  {
   "cell_type": "markdown",
   "metadata": {},
   "source": [
    "Calculate basic summary statistics for each column in the data (corresponding to MinTemp, MaxTemp, Temp9am, Temp3pm):"
   ]
  },
  {
   "cell_type": "code",
   "execution_count": null,
   "metadata": {},
   "outputs": [],
   "source": [
    "# get the mean value of each column\n",
    "col_mean = np.mean(data, axis=0)\n",
    "# get the minimum value of each column\n",
    "col_min = np.min(data, axis=0)\n",
    "# get the maximum value of each column\n",
    "col_max = np.max(data, axis=0)\n",
    "# get the standard deviation of each column\n",
    "col_std = np.std(data, axis=0)\n",
    "# display the results\n",
    "for col in range(data.shape[1]):\n",
    "    print(\"Column %d:  Min=%.1f\\tMax=%.2f\\tMean=%.1f\\tStd=%.1f\" % \n",
    "          (col, col_min[col], col_max[col], col_mean[col], col_std[col]))"
   ]
  },
  {
   "cell_type": "markdown",
   "metadata": {},
   "source": [
    "Calculate the number of days where the maximum temperature was above 30 degrees Celsius."
   ]
  },
  {
   "cell_type": "code",
   "execution_count": null,
   "metadata": {},
   "outputs": [],
   "source": [
    "above_30 = data[:, 1] > 30\n",
    "days_above_30 = np.sum(above_30)\n",
    "print(\"Number of days > 30 degrees: %d\" % days_above_30)"
   ]
  },
  {
   "cell_type": "markdown",
   "metadata": {},
   "source": [
    "## Task 3\n",
    "\n",
    "Create a scatter plot comparing the values the minimum and maximum temperatures for each day."
   ]
  },
  {
   "cell_type": "code",
   "execution_count": null,
   "metadata": {},
   "outputs": [],
   "source": [
    "# we can do this using Matplotlib\n",
    "import matplotlib\n",
    "import matplotlib.pyplot as plt\n",
    "%matplotlib inline\n",
    "# create the figure\n",
    "plt.figure(figsize=(6.5, 5.5))\n",
    "# draw the scatter plot\n",
    "ax = plt.scatter(data[:,0], data[:,1], color=\"darkorange\", s=20)\n",
    "plt.xlabel(\"Minimum Temperature (C)\", fontsize=13);\n",
    "plt.ylabel(\"Maximum Temperature (C)\", fontsize=13);"
   ]
  },
  {
   "cell_type": "markdown",
   "metadata": {},
   "source": [
    "Calculate the temperature range for each day (i.e. the difference between the maximum and minimum temperature).\n",
    "\n",
    "Plot these range values visually using a histogram containing 5 bins."
   ]
  },
  {
   "cell_type": "code",
   "execution_count": null,
   "metadata": {},
   "outputs": [],
   "source": [
    "# calculate the ranges\n",
    "temperature_range = data[:, 1] - data[:, 0]\n",
    "# create the histogram\n",
    "plt.figure(figsize=(7, 4.5))\n",
    "plt.hist(temperature_range, bins=5, edgecolor='black')\n",
    "plt.xlabel(\"Temperature Range (C)\", fontsize=13);\n",
    "plt.ylabel(\"Frequency\", fontsize=13);"
   ]
  },
  {
   "cell_type": "markdown",
   "metadata": {},
   "source": [
    "Create a scatter plot comparing the values the temperatures at 9am and 3pm for each day."
   ]
  },
  {
   "cell_type": "code",
   "execution_count": null,
   "metadata": {},
   "outputs": [],
   "source": [
    "# create the figure\n",
    "plt.figure(figsize=(6.5, 5.5))\n",
    "# draw the scatter plot\n",
    "ax = plt.scatter(data[:,2], data[:,3], color=\"darkred\", s=20)\n",
    "plt.xlabel(\"9am Temperature (C)\", fontsize=13);\n",
    "plt.ylabel(\"3pm Temperature (C)\", fontsize=13);"
   ]
  },
  {
   "cell_type": "markdown",
   "metadata": {},
   "source": [
    "Calculate the differences between the temperatures at 9am and 3pm for each data. What is the mean difference?\n",
    "\n",
    "On how many days was the temperature warmer at 9am than 3pm?"
   ]
  },
  {
   "cell_type": "code",
   "execution_count": null,
   "metadata": {},
   "outputs": [],
   "source": [
    "# calculate the ranges\n",
    "temperature_diff = data[:, 3] - data[:, 2]\n",
    "print(\"Mean temperature difference between 3pm and 9am: %.2f degrees\" % temperature_diff.mean())\n",
    "# check for negative difference values\n",
    "warmer_9am = temperature_diff < 0\n",
    "days_warmer_9am = np.sum(warmer_9am)\n",
    "print(\"Number of days warmer at 9am than 3pm: %d\" % days_warmer_9am)"
   ]
  },
  {
   "cell_type": "markdown",
   "metadata": {},
   "source": [
    "## Task 4\n",
    "\n",
    "Create a new version of the dataset where all of the Celsisus temperatures have been converted to Fahrenheit (see [here](https://www.metric-conversions.org/temperature/celsius-to-fahrenheit.htm))."
   ]
  },
  {
   "cell_type": "code",
   "execution_count": null,
   "metadata": {},
   "outputs": [],
   "source": [
    "# apply the conversion formula\n",
    "data2 = (data * 1.8) + 32\n",
    "data2"
   ]
  },
  {
   "cell_type": "markdown",
   "metadata": {},
   "source": [
    "Create a scatter plot of the maximum daily temperature in Celsius and maximum daily temperature in Fahrenheit."
   ]
  },
  {
   "cell_type": "code",
   "execution_count": null,
   "metadata": {},
   "outputs": [],
   "source": [
    "# create the figure\n",
    "plt.figure(figsize=(6.5, 5.5))\n",
    "# draw the scatter plot\n",
    "ax = plt.scatter(data[:,0], data2[:,0], color=\"darkgreen\", s=20)\n",
    "plt.xlabel(\"Maximum Temperature (C)\", fontsize=13);\n",
    "plt.ylabel(\"Maximum Temperature (F)\", fontsize=13);"
   ]
  },
  {
   "cell_type": "markdown",
   "metadata": {},
   "source": [
    "## Task 5\n",
    "\n",
    "Normalise the new Fahrenheit version of the data by applying **min-max normalisation** to each of the columns in the DataFrame.\n",
    "\n",
    "Then display updated summary statistics for the data."
   ]
  },
  {
   "cell_type": "code",
   "execution_count": null,
   "metadata": {},
   "outputs": [],
   "source": [
    "# calculate the minimum and maximum values per columns\n",
    "min_values = np.min(data2, axis=0)\n",
    "print(min_values)\n",
    "max_values = np.max(data2, axis=0)\n",
    "print(max_values)"
   ]
  },
  {
   "cell_type": "code",
   "execution_count": null,
   "metadata": {},
   "outputs": [],
   "source": [
    "# now apply the normalisation\n",
    "data3 = (data2 - min_values) / (max_values - min_values)\n",
    "data3"
   ]
  },
  {
   "cell_type": "code",
   "execution_count": null,
   "metadata": {},
   "outputs": [],
   "source": [
    "print(\"Range is [%.1f, %.1f]\" % (data3.min(), data3.max()))\n",
    "print(\"Mean is %.1f\" % data3.mean() )\n",
    "print(\"Standard deviation is %.1f\" % data3.std())"
   ]
  },
  {
   "cell_type": "markdown",
   "metadata": {},
   "source": [
    "## Task 6\n",
    "\n",
    "Export the final normalized version of the Fahrenheit data as a comma-separated text file, where values are stored rounded to 3 decimal places."
   ]
  },
  {
   "cell_type": "code",
   "execution_count": null,
   "metadata": {},
   "outputs": [],
   "source": [
    "np.savetxt(\"temperature-norm-fahrenheit.csv\", data3, \"%.3f\", \",\")"
   ]
  }
 ],
 "metadata": {
  "kernelspec": {
   "display_name": "Python 3 (ipykernel)",
   "language": "python",
   "name": "python3"
  },
  "language_info": {
   "codemirror_mode": {
    "name": "ipython",
    "version": 3
   },
   "file_extension": ".py",
   "mimetype": "text/x-python",
   "name": "python",
   "nbconvert_exporter": "python",
   "pygments_lexer": "ipython3",
   "version": "3.11.4"
  }
 },
 "nbformat": 4,
 "nbformat_minor": 1
}
