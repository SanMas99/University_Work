{
 "cells": [
  {
   "cell_type": "markdown",
   "metadata": {},
   "source": [
    "# Lab 6 Tasks\n",
    "\n",
    "In this notebook we will work with a dataset containing records of car sales from dealerships in different parts of Ireland during a one-year period. Each row in the data represents the sale of a single car, described by the following features:\n",
    "\n",
    "- *date*: the date when the car sale occurred\n",
    "- *make*: the make or manufacturer of the car\n",
    "- *model*: the specific model name of the car\n",
    "- *year*: indicates the age of the car\n",
    "- *transmission*: indicates if the car is manual, automatic, or semi-automatic\n",
    "- *fuel_type*: specifies the type type of fuel used by the car\n",
    "- *mileage*: the distance (in kilometres) that the car has previously been driven\n",
    "- *region*: the province in Ireland where the car sale took place\n",
    "- *sale_amount*: the amount (in euros) for which the car was sold"
   ]
  },
  {
   "cell_type": "code",
   "execution_count": null,
   "metadata": {},
   "outputs": [],
   "source": [
    "import pandas as pd"
   ]
  },
  {
   "cell_type": "markdown",
   "metadata": {},
   "source": [
    "## Task 1 - Data Loading\n",
    "\n",
    "Load the CSV file \"car-sales.csv\" into a Pandas DataFrame. Check the number of rows and the column names in the DataFrame."
   ]
  },
  {
   "cell_type": "code",
   "execution_count": null,
   "metadata": {},
   "outputs": [],
   "source": [
    "df = pd.read_csv(\"car-sales.csv\")\n",
    "# load it as a Pandas DataFrame\n",
    "print(\"Data: %d rows, %d columns\" % df.shape)\n",
    "df.head(10)"
   ]
  },
  {
   "cell_type": "markdown",
   "metadata": {},
   "source": [
    "## Task 2 - Handling Missing Values\n",
    "\n",
    "Check the extent to which there are features with missing values present in the features in the dataset."
   ]
  },
  {
   "cell_type": "code",
   "execution_count": null,
   "metadata": {},
   "outputs": [],
   "source": [
    "# get the number and percentage of missing values\n",
    "num_missing = df.isnull().sum()\n",
    "per_missing = num_missing*100.0/len(df)\n",
    "# turn this into a Data Frame\n",
    "pd.DataFrame({\"# Missing\":num_missing, \"% Missing\": per_missing})"
   ]
  },
  {
   "cell_type": "markdown",
   "metadata": {},
   "source": [
    "Apply appropriate data preprocessing to address any issues with missing values."
   ]
  },
  {
   "cell_type": "code",
   "execution_count": null,
   "metadata": {},
   "outputs": [],
   "source": [
    "# fix the columns by filling in the most common value (i.e. the mode)\n",
    "for col in [\"make\", \"transmission\", \"fuel_type\"]:\n",
    "    mode = df[col].mode()[0]\n",
    "    print(\"Filling in '%s' for missing values in %s\" % (mode, col))\n",
    "    df[col] = df[col].fillna(mode)"
   ]
  },
  {
   "cell_type": "code",
   "execution_count": null,
   "metadata": {},
   "outputs": [],
   "source": [
    "# check missing values again to make sure everything is fixed\n",
    "num_missing = df.isnull().sum()\n",
    "per_missing = num_missing*100.0/len(df)\n",
    "# turn this into a Data Frame\n",
    "pd.DataFrame({\"# Missing\":num_missing, \"% Missing\": per_missing})"
   ]
  },
  {
   "cell_type": "markdown",
   "metadata": {},
   "source": [
    "## Task 3 - Handling Irregulary Cardinality\n",
    "\n",
    "Check the extent to which there are categorical features with irregular cardinality present in the features in the dataset."
   ]
  },
  {
   "cell_type": "code",
   "execution_count": null,
   "metadata": {},
   "outputs": [],
   "source": [
    "# find the categorical columns\n",
    "df.info()"
   ]
  },
  {
   "cell_type": "code",
   "execution_count": null,
   "metadata": {},
   "outputs": [],
   "source": [
    "# check the value counts for each categorical column\n",
    "for col in ['make', 'model', 'transmission', 'fuel_type', 'region']:\n",
    "    display(df[col].value_counts())"
   ]
  },
  {
   "cell_type": "markdown",
   "metadata": {},
   "source": [
    "Apply appropriate data preprocessing to address any issues with irregular cardinality."
   ]
  },
  {
   "cell_type": "code",
   "execution_count": null,
   "metadata": {},
   "outputs": [],
   "source": [
    "# fix the irregular cardinality for the 'fuel_type' feature\n",
    "df.loc[df['fuel_type'] == 'P','fuel_type'] = \"Petrol\"\n",
    "df.loc[df['fuel_type'] == 'D','fuel_type'] = \"Diesel\"\n",
    "df.loc[df['fuel_type'] == 'E','fuel_type'] = \"Electric\"\n",
    "df[\"fuel_type\"].value_counts()"
   ]
  },
  {
   "cell_type": "code",
   "execution_count": null,
   "metadata": {},
   "outputs": [],
   "source": [
    "# fix the irregular cardinality for the 'transmission' feature\n",
    "df.loc[df['transmission'] == 'Auto','transmission'] = \"Automatic\"\n",
    "df[\"transmission\"].value_counts()"
   ]
  },
  {
   "cell_type": "markdown",
   "metadata": {},
   "source": [
    "## Task 4 - Data Aggregation\n",
    "\n",
    "Use data aggregation to analysise how the *total sale amount* for cars sold in the full dataset relates to the *region* in which the sale took place. Sort the regions by highest to lowest total value."
   ]
  },
  {
   "cell_type": "code",
   "execution_count": null,
   "metadata": {},
   "outputs": [],
   "source": [
    "# group the rows by region\n",
    "region_groups = df.groupby(\"region\")\n",
    "# calculate the sum for each group\n",
    "region_totals = region_groups[\"sale_amount\"].sum()\n",
    "# sort the results\n",
    "region_totals.sort_values(ascending=False)"
   ]
  },
  {
   "cell_type": "markdown",
   "metadata": {},
   "source": [
    "Next, use data aggregation to analysise how the *total sale amount* for cars sold in the full dataset relates to car *model*. Sort the models by highest to lowest total value."
   ]
  },
  {
   "cell_type": "code",
   "execution_count": null,
   "metadata": {},
   "outputs": [],
   "source": [
    "# group the rows by model\n",
    "model_groups = df.groupby(\"model\")\n",
    "# calculate the sum for each group\n",
    "model_totals = model_groups[\"sale_amount\"].sum()\n",
    "# sort the results\n",
    "model_totals.sort_values(ascending=False)"
   ]
  },
  {
   "cell_type": "markdown",
   "metadata": {},
   "source": [
    "## Task 5 - Cross Tabulation\n",
    "\n",
    "Use cross tabulation to examine the relationship between the *model* and *region* categorical variables."
   ]
  },
  {
   "cell_type": "code",
   "execution_count": null,
   "metadata": {},
   "outputs": [],
   "source": [
    "# compare this pair of categorical variables\n",
    "pd.crosstab(df[\"model\"], df[\"region\"])"
   ]
  },
  {
   "cell_type": "markdown",
   "metadata": {},
   "source": [
    "Next, use cross tabulation to examine the relationship between the *transmission* and *fuel type* categorical variables.\n",
    "\n",
    "In this case, normalise the values in the cross-tabulation by row."
   ]
  },
  {
   "cell_type": "code",
   "execution_count": null,
   "metadata": {},
   "outputs": [],
   "source": [
    "# compare this pair of categorical variables\n",
    "pd.crosstab(df[\"transmission\"], df[\"fuel_type\"], normalize=\"index\")"
   ]
  },
  {
   "cell_type": "code",
   "execution_count": null,
   "metadata": {},
   "outputs": [],
   "source": []
  }
 ],
 "metadata": {
  "anaconda-cloud": {},
  "kernelspec": {
   "display_name": "Python 3 (ipykernel)",
   "language": "python",
   "name": "python3"
  },
  "language_info": {
   "codemirror_mode": {
    "name": "ipython",
    "version": 3
   },
   "file_extension": ".py",
   "mimetype": "text/x-python",
   "name": "python",
   "nbconvert_exporter": "python",
   "pygments_lexer": "ipython3",
   "version": "3.11.4"
  }
 },
 "nbformat": 4,
 "nbformat_minor": 1
}
