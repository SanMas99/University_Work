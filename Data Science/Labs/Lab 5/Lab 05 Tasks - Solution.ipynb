{
 "cells": [
  {
   "cell_type": "markdown",
   "metadata": {},
   "source": [
    "# Lab 5 Tasks  - Solution\n",
    "\n",
    "In this notebook we will analyse a dataset related to the London 2012 Olympics by using the Pandas library. In the dataset, each row represents a different country described by a number of features:\n",
    "\n",
    "- *ISO:* Unique short ISO country code\n",
    "- *Country*: Full country name\n",
    "- *Gold*: Number of gold medals won by the country in 2012\n",
    "- *Silver*: Number of silver medals won by the country in 2012\n",
    "- *Bronze*: Number of bronze medals won by the country in 2012\n",
    "- *Population*: 2011 population for the country, from the World Bank"
   ]
  },
  {
   "cell_type": "code",
   "execution_count": null,
   "metadata": {},
   "outputs": [],
   "source": [
    "import pandas as pd"
   ]
  },
  {
   "cell_type": "markdown",
   "metadata": {},
   "source": [
    "## Task 1"
   ]
  },
  {
   "cell_type": "markdown",
   "metadata": {},
   "source": [
    "Load the CSV file \"olympics2012.csv\" into a Pandas DataFrame, where each row is indexed by its ISO country code. Check the number of rows and the column names in the DataFrame."
   ]
  },
  {
   "cell_type": "code",
   "execution_count": null,
   "metadata": {},
   "outputs": [],
   "source": [
    "df = pd.read_csv(\"olympics2012.csv\", index_col=\"ISO\")"
   ]
  },
  {
   "cell_type": "code",
   "execution_count": null,
   "metadata": {},
   "outputs": [],
   "source": [
    "df.shape[0]"
   ]
  },
  {
   "cell_type": "code",
   "execution_count": null,
   "metadata": {},
   "outputs": [],
   "source": [
    "list(df.columns)"
   ]
  },
  {
   "cell_type": "markdown",
   "metadata": {},
   "source": [
    "Display the first 15 rows of the data."
   ]
  },
  {
   "cell_type": "code",
   "execution_count": null,
   "metadata": {},
   "outputs": [],
   "source": [
    "df.head(15)"
   ]
  },
  {
   "cell_type": "markdown",
   "metadata": {},
   "source": [
    "Show the top 10 countries with the highest number of gold medals at the 2012 Olympics."
   ]
  },
  {
   "cell_type": "code",
   "execution_count": null,
   "metadata": {},
   "outputs": [],
   "source": [
    "# sort the DataFrame in descending order by gold medals\n",
    "df_sorted = df.sort_values(by=\"Gold\", ascending=False)\n",
    "# show the top 10\n",
    "df_sorted.head(10)"
   ]
  },
  {
   "cell_type": "markdown",
   "metadata": {},
   "source": [
    "## Task 2"
   ]
  },
  {
   "cell_type": "markdown",
   "metadata": {},
   "source": [
    "Create a new column in the DataFrame called \"Total\" which indicates the total number of medals won by each country. Show the top 10 countries with the highest number of total medals."
   ]
  },
  {
   "cell_type": "code",
   "execution_count": null,
   "metadata": {},
   "outputs": [],
   "source": [
    "# create the new column as the sum of the 3 medal types\n",
    "df[\"Total\"] = df[\"Gold\"] + df[\"Silver\"] + df[\"Bronze\"]"
   ]
  },
  {
   "cell_type": "code",
   "execution_count": null,
   "metadata": {},
   "outputs": [],
   "source": [
    "# sort the DataFrame in descending order by total\n",
    "df_sorted = df.sort_values(by=\"Total\", ascending=False)\n",
    "# show the top 10\n",
    "df_sorted.head(10)"
   ]
  },
  {
   "cell_type": "markdown",
   "metadata": {},
   "source": [
    "Display the subset of countries which:\n",
    "1. Won 20 or more gold medals\n",
    "2. Won 25 or more total medals\n",
    "3. Won only bronze medals"
   ]
  },
  {
   "cell_type": "code",
   "execution_count": null,
   "metadata": {},
   "outputs": [],
   "source": [
    "# filter for 20 or more gold medals\n",
    "df[df[\"Gold\"]>=20]"
   ]
  },
  {
   "cell_type": "code",
   "execution_count": null,
   "metadata": {},
   "outputs": [],
   "source": [
    "# filter for 25 or more total medals\n",
    "df[df[\"Total\"]>=25]"
   ]
  },
  {
   "cell_type": "code",
   "execution_count": null,
   "metadata": {},
   "outputs": [],
   "source": [
    "# filter for only bronze medals, no silver or gold\n",
    "df[(df[\"Gold\"]==0) & (df[\"Silver\"]==0) & (df[\"Bronze\"]>0)]"
   ]
  },
  {
   "cell_type": "markdown",
   "metadata": {},
   "source": [
    "## Task 3\n",
    "\n",
    "Create a new column called \"WeightedTotal\", which computes a weighted total for the number of medals won by each country, with weights: Gold=3, Silver=2, Bronze=1. \n",
    "\n",
    "Display the top 10 countries according to this score."
   ]
  },
  {
   "cell_type": "code",
   "execution_count": null,
   "metadata": {},
   "outputs": [],
   "source": [
    "# create the new column as the weighted sum of the 3 medal types\n",
    "df[\"WeightedTotal\"] = 3*df[\"Gold\"] + 2*df[\"Silver\"] + df[\"Bronze\"]"
   ]
  },
  {
   "cell_type": "code",
   "execution_count": null,
   "metadata": {},
   "outputs": [],
   "source": [
    "# sort the DataFrame in descending order by weighted total\n",
    "df_sorted = df.sort_values(by=\"WeightedTotal\", ascending=False)\n",
    "# show the top 10\n",
    "df_sorted.head(10)"
   ]
  },
  {
   "cell_type": "markdown",
   "metadata": {},
   "source": [
    "## Task 4\n",
    "\n",
    "Create a new column \"TotalPerPop\" which is calculated as the total number of medals won by a country per million population.\n",
    "\n",
    "Display the top 20 countries according to this score."
   ]
  },
  {
   "cell_type": "code",
   "execution_count": null,
   "metadata": {},
   "outputs": [],
   "source": [
    "# convert our population values to millions\n",
    "normalised_pop = df[\"Population\"]/1000000\n",
    "# check the value for Ireland to make sure this is correct\n",
    "normalised_pop[\"IRL\"]"
   ]
  },
  {
   "cell_type": "code",
   "execution_count": null,
   "metadata": {},
   "outputs": [],
   "source": [
    "# now create the new column\n",
    "df[\"TotalPerPop\"] = df[\"Total\"] / normalised_pop\n",
    "# sort the DataFrame in descending order by gold medals\n",
    "df_sorted = df.sort_values(by=\"TotalPerPop\", ascending=False)\n",
    "# show the top 20\n",
    "df_sorted.head(20)"
   ]
  }
 ],
 "metadata": {
  "anaconda-cloud": {},
  "kernelspec": {
   "display_name": "Python 3 (ipykernel)",
   "language": "python",
   "name": "python3"
  },
  "language_info": {
   "codemirror_mode": {
    "name": "ipython",
    "version": 3
   },
   "file_extension": ".py",
   "mimetype": "text/x-python",
   "name": "python",
   "nbconvert_exporter": "python",
   "pygments_lexer": "ipython3",
   "version": "3.9.7"
  }
 },
 "nbformat": 4,
 "nbformat_minor": 1
}
