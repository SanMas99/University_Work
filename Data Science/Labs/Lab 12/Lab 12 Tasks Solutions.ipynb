{
 "cells": [
  {
   "cell_type": "markdown",
   "metadata": {},
   "source": [
    "# Lab 12 Tasks - Solutions\n",
    "\n",
    "In this notebook we will apply basic time series analysis to stock price data for Meta and Amazon, sourced from Yahoo Finance."
   ]
  },
  {
   "cell_type": "code",
   "execution_count": null,
   "metadata": {},
   "outputs": [],
   "source": [
    "from datetime import datetime\n",
    "import pandas as pd\n",
    "import matplotlib\n",
    "import matplotlib.pylab as plt\n",
    "%matplotlib inline "
   ]
  },
  {
   "cell_type": "markdown",
   "metadata": {},
   "source": [
    "## Task 1\n",
    "\n",
    "Load the stock price CSV files for both Meta and Amazon into separate Pandas Dat aFrames.\n",
    "\n",
    "Note: Dates in these files are stored in \"day/month/year\" format"
   ]
  },
  {
   "cell_type": "code",
   "execution_count": null,
   "metadata": {},
   "outputs": [],
   "source": [
    "# create a custom data parser to use for our files\n",
    "dp = lambda x: datetime.strptime(x, \"%d/%m/%Y\")"
   ]
  },
  {
   "cell_type": "code",
   "execution_count": null,
   "metadata": {},
   "outputs": [],
   "source": [
    "df_meta = pd.read_csv(\"stock-meta.csv\", index_col=\"date\", parse_dates=True, date_parser=dp)\n",
    "df_meta.head()"
   ]
  },
  {
   "cell_type": "code",
   "execution_count": null,
   "metadata": {},
   "outputs": [],
   "source": [
    "df_meta.tail()"
   ]
  },
  {
   "cell_type": "code",
   "execution_count": null,
   "metadata": {},
   "outputs": [],
   "source": [
    "df_ms = pd.read_csv(\"stock-amazon.csv\", index_col=\"date\", parse_dates=True, date_parser=dp)\n",
    "df_ms.head()"
   ]
  },
  {
   "cell_type": "code",
   "execution_count": null,
   "metadata": {},
   "outputs": [],
   "source": [
    "df_ms.tail()"
   ]
  },
  {
   "cell_type": "markdown",
   "metadata": {},
   "source": [
    "## Task 2\n",
    "\n",
    "For each of the Data Frames, extract only the **close** stock prices for the year 2021. This should give you two new Pandas Series."
   ]
  },
  {
   "cell_type": "code",
   "execution_count": null,
   "metadata": {},
   "outputs": [],
   "source": [
    "df_meta_closing = df_meta[\"close\"][\"2021\"]\n",
    "df_meta_closing.head()"
   ]
  },
  {
   "cell_type": "code",
   "execution_count": null,
   "metadata": {},
   "outputs": [],
   "source": [
    "df_ms_closing = df_ms[\"close\"][\"2021\"]\n",
    "df_ms_closing.head()"
   ]
  },
  {
   "cell_type": "markdown",
   "metadata": {},
   "source": [
    "## Task 3\n",
    "\n",
    "Create a new time series Data Frame with two columns, one for the Meta 2021 closing prices and one for the Amazon 2021 closing prices."
   ]
  },
  {
   "cell_type": "code",
   "execution_count": null,
   "metadata": {},
   "outputs": [],
   "source": [
    "# stack the two Series vertically as columns\n",
    "df_combined = pd.concat( [df_meta_closing,df_ms_closing], axis=1 )\n",
    "# rename the column names\n",
    "df_combined.columns = [\"Meta\",\"Amazon\"]\n",
    "df_combined.head()"
   ]
  },
  {
   "cell_type": "markdown",
   "metadata": {},
   "source": [
    "## Task 4\n",
    "\n",
    "Plot the 2021 closing prices for Meta and Amazon, using a 7-day rolling mean."
   ]
  },
  {
   "cell_type": "code",
   "execution_count": null,
   "metadata": {},
   "outputs": [],
   "source": [
    "# apply the rolling mean\n",
    "rm = df_combined.rolling(7).mean()\n",
    "# create the plot\n",
    "p = rm.plot(figsize=(12, 6), fontsize=13)\n",
    "plt.xlabel('Date', fontsize=13)\n",
    "plt.ylabel('Closing Stock Price (7 day)', fontsize=13);"
   ]
  },
  {
   "cell_type": "markdown",
   "metadata": {},
   "source": [
    "## Task 5 \n",
    "\n",
    "Resample the new Data Frame to monthly time windows, and plot the new monthly time series."
   ]
  },
  {
   "cell_type": "code",
   "execution_count": null,
   "metadata": {},
   "outputs": [],
   "source": [
    "# convert from day frequency to month (M) frequency, by averaging values\n",
    "df_monthly = df_combined.resample(\"M\").mean()"
   ]
  },
  {
   "cell_type": "code",
   "execution_count": null,
   "metadata": {},
   "outputs": [],
   "source": [
    "# create the plot\n",
    "p = df_monthly.plot(figsize=(12, 6), fontsize=13, lw=2)\n",
    "plt.ylabel('Closing Stock Price', fontsize=13)\n",
    "plt.xlabel(\"Month\", fontsize=13);"
   ]
  }
 ],
 "metadata": {
  "kernelspec": {
   "display_name": "Python 3 (ipykernel)",
   "language": "python",
   "name": "python3"
  },
  "language_info": {
   "codemirror_mode": {
    "name": "ipython",
    "version": 3
   },
   "file_extension": ".py",
   "mimetype": "text/x-python",
   "name": "python",
   "nbconvert_exporter": "python",
   "pygments_lexer": "ipython3",
   "version": "3.11.4"
  }
 },
 "nbformat": 4,
 "nbformat_minor": 1
}
