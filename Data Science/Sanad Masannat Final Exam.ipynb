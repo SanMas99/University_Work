{
 "cells": [
  {
   "cell_type": "code",
   "execution_count": 34,
   "id": "37a669b2",
   "metadata": {},
   "outputs": [],
   "source": [
    "import pandas as pd\n",
    "import matplotlib\n",
    "import matplotlib.pyplot as plt\n",
    "import seaborn as sns\n",
    "from sklearn.linear_model import LinearRegression\n",
    "from sklearn.model_selection import train_test_split\n",
    "from sklearn.metrics import classification_report, accuracy_score\n",
    "\n",
    "%matplotlib inline"
   ]
  },
  {
   "cell_type": "markdown",
   "id": "92ba7f0f",
   "metadata": {},
   "source": [
    "### Task 1\n",
    "**(a)**   \n",
    "Load the dataset into Pandas in a Python notebook."
   ]
  },
  {
   "cell_type": "code",
   "execution_count": 36,
   "id": "0df5c70b",
   "metadata": {},
   "outputs": [
    {
     "data": {
      "text/html": [
       "<div>\n",
       "<style scoped>\n",
       "    .dataframe tbody tr th:only-of-type {\n",
       "        vertical-align: middle;\n",
       "    }\n",
       "\n",
       "    .dataframe tbody tr th {\n",
       "        vertical-align: top;\n",
       "    }\n",
       "\n",
       "    .dataframe thead th {\n",
       "        text-align: right;\n",
       "    }\n",
       "</style>\n",
       "<table border=\"1\" class=\"dataframe\">\n",
       "  <thead>\n",
       "    <tr style=\"text-align: right;\">\n",
       "      <th></th>\n",
       "      <th>cylinders</th>\n",
       "      <th>horsepower</th>\n",
       "      <th>acceleration</th>\n",
       "      <th>CC</th>\n",
       "      <th>Weight</th>\n",
       "      <th>ModelYear</th>\n",
       "      <th>l/100km</th>\n",
       "    </tr>\n",
       "  </thead>\n",
       "  <tbody>\n",
       "    <tr>\n",
       "      <th>0</th>\n",
       "      <td>8</td>\n",
       "      <td>130.0</td>\n",
       "      <td>12.0</td>\n",
       "      <td>5031</td>\n",
       "      <td>1576</td>\n",
       "      <td>2010</td>\n",
       "      <td>15.69</td>\n",
       "    </tr>\n",
       "    <tr>\n",
       "      <th>1</th>\n",
       "      <td>8</td>\n",
       "      <td>165.0</td>\n",
       "      <td>11.5</td>\n",
       "      <td>5736</td>\n",
       "      <td>1661</td>\n",
       "      <td>2010</td>\n",
       "      <td>18.83</td>\n",
       "    </tr>\n",
       "    <tr>\n",
       "      <th>2</th>\n",
       "      <td>8</td>\n",
       "      <td>150.0</td>\n",
       "      <td>11.0</td>\n",
       "      <td>5212</td>\n",
       "      <td>1546</td>\n",
       "      <td>2010</td>\n",
       "      <td>15.69</td>\n",
       "    </tr>\n",
       "    <tr>\n",
       "      <th>3</th>\n",
       "      <td>8</td>\n",
       "      <td>150.0</td>\n",
       "      <td>12.0</td>\n",
       "      <td>4982</td>\n",
       "      <td>1544</td>\n",
       "      <td>2010</td>\n",
       "      <td>17.66</td>\n",
       "    </tr>\n",
       "    <tr>\n",
       "      <th>4</th>\n",
       "      <td>8</td>\n",
       "      <td>140.0</td>\n",
       "      <td>10.5</td>\n",
       "      <td>4949</td>\n",
       "      <td>1552</td>\n",
       "      <td>2010</td>\n",
       "      <td>16.62</td>\n",
       "    </tr>\n",
       "    <tr>\n",
       "      <th>5</th>\n",
       "      <td>8</td>\n",
       "      <td>198.0</td>\n",
       "      <td>10.0</td>\n",
       "      <td>7031</td>\n",
       "      <td>1953</td>\n",
       "      <td>2010</td>\n",
       "      <td>18.83</td>\n",
       "    </tr>\n",
       "    <tr>\n",
       "      <th>6</th>\n",
       "      <td>8</td>\n",
       "      <td>220.0</td>\n",
       "      <td>9.0</td>\n",
       "      <td>7441</td>\n",
       "      <td>1959</td>\n",
       "      <td>2010</td>\n",
       "      <td>20.18</td>\n",
       "    </tr>\n",
       "    <tr>\n",
       "      <th>7</th>\n",
       "      <td>8</td>\n",
       "      <td>NaN</td>\n",
       "      <td>8.5</td>\n",
       "      <td>7211</td>\n",
       "      <td>1940</td>\n",
       "      <td>2010</td>\n",
       "      <td>20.18</td>\n",
       "    </tr>\n",
       "    <tr>\n",
       "      <th>8</th>\n",
       "      <td>8</td>\n",
       "      <td>225.0</td>\n",
       "      <td>10.0</td>\n",
       "      <td>7457</td>\n",
       "      <td>1991</td>\n",
       "      <td>2010</td>\n",
       "      <td>20.18</td>\n",
       "    </tr>\n",
       "    <tr>\n",
       "      <th>9</th>\n",
       "      <td>8</td>\n",
       "      <td>190.0</td>\n",
       "      <td>8.5</td>\n",
       "      <td>6392</td>\n",
       "      <td>1732</td>\n",
       "      <td>2010</td>\n",
       "      <td>18.83</td>\n",
       "    </tr>\n",
       "  </tbody>\n",
       "</table>\n",
       "</div>"
      ],
      "text/plain": [
       "   cylinders  horsepower  acceleration    CC  Weight  ModelYear  l/100km\n",
       "0          8       130.0          12.0  5031    1576       2010    15.69\n",
       "1          8       165.0          11.5  5736    1661       2010    18.83\n",
       "2          8       150.0          11.0  5212    1546       2010    15.69\n",
       "3          8       150.0          12.0  4982    1544       2010    17.66\n",
       "4          8       140.0          10.5  4949    1552       2010    16.62\n",
       "5          8       198.0          10.0  7031    1953       2010    18.83\n",
       "6          8       220.0           9.0  7441    1959       2010    20.18\n",
       "7          8         NaN           8.5  7211    1940       2010    20.18\n",
       "8          8       225.0          10.0  7457    1991       2010    20.18\n",
       "9          8       190.0           8.5  6392    1732       2010    18.83"
      ]
     },
     "execution_count": 36,
     "metadata": {},
     "output_type": "execute_result"
    }
   ],
   "source": [
    "df = pd.read_csv(\"test_vehicle.csv\")\n",
    "df.head(10)"
   ]
  },
  {
   "cell_type": "markdown",
   "id": "a5fcdd81-02a5-47f3-af91-02faf1211e1d",
   "metadata": {},
   "source": [
    "Here we are making sure the data has been loaded in correctly and showing some the dataframe. Here we can see there is some missing values"
   ]
  },
  {
   "cell_type": "markdown",
   "id": "ab055568",
   "metadata": {},
   "source": [
    "**(b)**   "
   ]
  },
  {
   "cell_type": "code",
   "execution_count": 39,
   "id": "9774c62c",
   "metadata": {},
   "outputs": [
    {
     "data": {
      "text/plain": [
       "<Axes: >"
      ]
     },
     "execution_count": 39,
     "metadata": {},
     "output_type": "execute_result"
    },
    {
     "data": {
      "image/png": "[encoded data removed]",
      "text/plain": [
       "<Figure size 640x480 with 1 Axes>"
      ]
     },
     "metadata": {},
     "output_type": "display_data"
    }
   ],
   "source": [
    "df[\"CC\"].plot(kind='box')"
   ]
  },
  {
   "cell_type": "code",
   "execution_count": 40,
   "id": "488d10f3",
   "metadata": {},
   "outputs": [
    {
     "data": {
      "text/plain": [
       "<Axes: >"
      ]
     },
     "execution_count": 40,
     "metadata": {},
     "output_type": "execute_result"
    },
    {
     "data": {
      "image/png": "[encoded data removed]",
      "text/plain": [
       "<Figure size 640x480 with 1 Axes>"
      ]
     },
     "metadata": {},
     "output_type": "display_data"
    }
   ],
   "source": [
    "df[\"l/100km\"].plot(kind='box')"
   ]
  },
  {
   "cell_type": "markdown",
   "id": "41c740e3-407c-457b-931b-7788b6125858",
   "metadata": {},
   "source": [
    "I chose to use a box plot because it makes outliers more visible and see if there is any skew. Based of the two box plots, we can see that for the CC feature, we do not have ay outliers whereas for the l/100km, we have some upper outliers"
   ]
  },
  {
   "cell_type": "markdown",
   "id": "b3fcd0ee",
   "metadata": {},
   "source": [
    "**(c)**   "
   ]
  },
  {
   "cell_type": "code",
   "execution_count": 43,
   "id": "450ae84e",
   "metadata": {},
   "outputs": [
    {
     "data": {
      "text/plain": [
       "(array([ 0,  1,  2,  3,  4,  5,  6,  7,  8,  9, 10, 11, 12]),\n",
       " [Text(0, 0, '2010'),\n",
       "  Text(1, 0, '2011'),\n",
       "  Text(2, 0, '2012'),\n",
       "  Text(3, 0, '2013'),\n",
       "  Text(4, 0, '2014'),\n",
       "  Text(5, 0, '2015'),\n",
       "  Text(6, 0, '2016'),\n",
       "  Text(7, 0, '2017'),\n",
       "  Text(8, 0, '2018'),\n",
       "  Text(9, 0, '2019'),\n",
       "  Text(10, 0, '2020'),\n",
       "  Text(11, 0, '2021'),\n",
       "  Text(12, 0, '2022')])"
      ]
     },
     "execution_count": 43,
     "metadata": {},
     "output_type": "execute_result"
    },
    {
     "data": {
      "image/png": "[encoded data removed]",
      "text/plain": [
       "<Figure size 1200x800 with 1 Axes>"
      ]
     },
     "metadata": {},
     "output_type": "display_data"
    }
   ],
   "source": [
    "plt.figure(figsize=(12,8))\n",
    "grouped=df.groupby('ModelYear')['l/100km'].mean()\n",
    "grouped.plot(kind='bar')\n",
    "plt.title(\"Average l/100km by Model Year\")\n",
    "plt.xlabel(\"Year\")\n",
    "plt.ylabel(\"Average l/100km\")\n",
    "plt.xticks(rotation=45) \n"
   ]
  },
  {
   "cell_type": "markdown",
   "id": "6fb79eb3-1836-4857-9a00-3688ffc569e9",
   "metadata": {},
   "source": [
    "Here we first group the dataset by the model's year and save it to a new variable. Then, we calculate the mean of the l/100km columns and plot on a bar graph to visualise the graph much better. Here we can see that 2013 has the highest average l/100km whereas 2020 has the lowest average. It also appear we have a negatve trend in that as time goes by the l/100km genreally goes down with some periods of small increase. "
   ]
  },
  {
   "cell_type": "markdown",
   "id": "0297a308",
   "metadata": {},
   "source": [
    "**(d)**   "
   ]
  },
  {
   "cell_type": "code",
   "execution_count": 46,
   "id": "a40aa71d",
   "metadata": {},
   "outputs": [
    {
     "name": "stdout",
     "output_type": "stream",
     "text": [
      "\n",
      "Categories which have null values and how many:\n",
      "cylinders        0\n",
      "horsepower      26\n",
      "acceleration     0\n",
      "CC               0\n",
      "Weight           0\n",
      "ModelYear        0\n",
      "l/100km          0\n",
      "dtype: int64\n"
     ]
    },
    {
     "data": {
      "text/html": [
       "<div>\n",
       "<style scoped>\n",
       "    .dataframe tbody tr th:only-of-type {\n",
       "        vertical-align: middle;\n",
       "    }\n",
       "\n",
       "    .dataframe tbody tr th {\n",
       "        vertical-align: top;\n",
       "    }\n",
       "\n",
       "    .dataframe thead th {\n",
       "        text-align: right;\n",
       "    }\n",
       "</style>\n",
       "<table border=\"1\" class=\"dataframe\">\n",
       "  <thead>\n",
       "    <tr style=\"text-align: right;\">\n",
       "      <th></th>\n",
       "      <th>cylinders</th>\n",
       "      <th>horsepower</th>\n",
       "      <th>acceleration</th>\n",
       "      <th>CC</th>\n",
       "      <th>Weight</th>\n",
       "      <th>ModelYear</th>\n",
       "      <th>l/100km</th>\n",
       "    </tr>\n",
       "  </thead>\n",
       "  <tbody>\n",
       "    <tr>\n",
       "      <th>0</th>\n",
       "      <td>8</td>\n",
       "      <td>130</td>\n",
       "      <td>12.0</td>\n",
       "      <td>5031</td>\n",
       "      <td>1576</td>\n",
       "      <td>2010</td>\n",
       "      <td>15.69</td>\n",
       "    </tr>\n",
       "    <tr>\n",
       "      <th>1</th>\n",
       "      <td>8</td>\n",
       "      <td>165</td>\n",
       "      <td>11.5</td>\n",
       "      <td>5736</td>\n",
       "      <td>1661</td>\n",
       "      <td>2010</td>\n",
       "      <td>18.83</td>\n",
       "    </tr>\n",
       "    <tr>\n",
       "      <th>2</th>\n",
       "      <td>8</td>\n",
       "      <td>150</td>\n",
       "      <td>11.0</td>\n",
       "      <td>5212</td>\n",
       "      <td>1546</td>\n",
       "      <td>2010</td>\n",
       "      <td>15.69</td>\n",
       "    </tr>\n",
       "    <tr>\n",
       "      <th>3</th>\n",
       "      <td>8</td>\n",
       "      <td>150</td>\n",
       "      <td>12.0</td>\n",
       "      <td>4982</td>\n",
       "      <td>1544</td>\n",
       "      <td>2010</td>\n",
       "      <td>17.66</td>\n",
       "    </tr>\n",
       "    <tr>\n",
       "      <th>4</th>\n",
       "      <td>8</td>\n",
       "      <td>140</td>\n",
       "      <td>10.5</td>\n",
       "      <td>4949</td>\n",
       "      <td>1552</td>\n",
       "      <td>2010</td>\n",
       "      <td>16.62</td>\n",
       "    </tr>\n",
       "    <tr>\n",
       "      <th>5</th>\n",
       "      <td>8</td>\n",
       "      <td>198</td>\n",
       "      <td>10.0</td>\n",
       "      <td>7031</td>\n",
       "      <td>1953</td>\n",
       "      <td>2010</td>\n",
       "      <td>18.83</td>\n",
       "    </tr>\n",
       "    <tr>\n",
       "      <th>6</th>\n",
       "      <td>8</td>\n",
       "      <td>220</td>\n",
       "      <td>9.0</td>\n",
       "      <td>7441</td>\n",
       "      <td>1959</td>\n",
       "      <td>2010</td>\n",
       "      <td>20.18</td>\n",
       "    </tr>\n",
       "    <tr>\n",
       "      <th>7</th>\n",
       "      <td>8</td>\n",
       "      <td>222</td>\n",
       "      <td>8.5</td>\n",
       "      <td>7211</td>\n",
       "      <td>1940</td>\n",
       "      <td>2010</td>\n",
       "      <td>20.18</td>\n",
       "    </tr>\n",
       "    <tr>\n",
       "      <th>8</th>\n",
       "      <td>8</td>\n",
       "      <td>225</td>\n",
       "      <td>10.0</td>\n",
       "      <td>7457</td>\n",
       "      <td>1991</td>\n",
       "      <td>2010</td>\n",
       "      <td>20.18</td>\n",
       "    </tr>\n",
       "    <tr>\n",
       "      <th>9</th>\n",
       "      <td>8</td>\n",
       "      <td>190</td>\n",
       "      <td>8.5</td>\n",
       "      <td>6392</td>\n",
       "      <td>1732</td>\n",
       "      <td>2010</td>\n",
       "      <td>18.83</td>\n",
       "    </tr>\n",
       "  </tbody>\n",
       "</table>\n",
       "</div>"
      ],
      "text/plain": [
       "   cylinders  horsepower  acceleration    CC  Weight  ModelYear  l/100km\n",
       "0          8         130          12.0  5031    1576       2010    15.69\n",
       "1          8         165          11.5  5736    1661       2010    18.83\n",
       "2          8         150          11.0  5212    1546       2010    15.69\n",
       "3          8         150          12.0  4982    1544       2010    17.66\n",
       "4          8         140          10.5  4949    1552       2010    16.62\n",
       "5          8         198          10.0  7031    1953       2010    18.83\n",
       "6          8         220           9.0  7441    1959       2010    20.18\n",
       "7          8         222           8.5  7211    1940       2010    20.18\n",
       "8          8         225          10.0  7457    1991       2010    20.18\n",
       "9          8         190           8.5  6392    1732       2010    18.83"
      ]
     },
     "execution_count": 46,
     "metadata": {},
     "output_type": "execute_result"
    }
   ],
   "source": [
    "print(\"\\nCategories which have null values and how many:\")\n",
    "print(df.isnull().sum())\n",
    "\n",
    "df.interpolate(method ='linear', limit_direction ='forward', inplace=True)\n",
    "df['horsepower']=df['horsepower'].astype(int)\n",
    "\n",
    "df.head(10)"
   ]
  },
  {
   "cell_type": "markdown",
   "id": "0f65c9d1-c438-41e7-bfab-ddac0c4d17e4",
   "metadata": {},
   "source": [
    "Here we can see horsepower has 26 null values whereas none of the other categories have null values. Since horsepower is of type integer, the way i chose to combat the null values is to use interpolation. The reason i chose to use interpolation is because interpolation gives us a number based off previous examples, making it more in line with the previous data than if we chose to use Mean or Median. The problem with the other two is that it could lead to really high or really low data values if there are outliers in horsepower. However, it should be noted that while this will fill in the empty cells, it is not necessarily accurate. We must also cast the column to an integer after interpolation as all data was of type integer pre-interpolation and we must type cast the column post-interpolation as we do get some float values from interpolation "
   ]
  },
  {
   "cell_type": "markdown",
   "id": "2d76117a",
   "metadata": {},
   "source": [
    "### Task 2\n",
    "**(a)**   "
   ]
  },
  {
   "cell_type": "code",
   "execution_count": 49,
   "id": "235a96b8",
   "metadata": {},
   "outputs": [
    {
     "data": {
      "text/html": [
       "<div>\n",
       "<style scoped>\n",
       "    .dataframe tbody tr th:only-of-type {\n",
       "        vertical-align: middle;\n",
       "    }\n",
       "\n",
       "    .dataframe tbody tr th {\n",
       "        vertical-align: top;\n",
       "    }\n",
       "\n",
       "    .dataframe thead th {\n",
       "        text-align: right;\n",
       "    }\n",
       "</style>\n",
       "<table border=\"1\" class=\"dataframe\">\n",
       "  <thead>\n",
       "    <tr style=\"text-align: right;\">\n",
       "      <th></th>\n",
       "      <th>cylinders</th>\n",
       "      <th>horsepower</th>\n",
       "      <th>acceleration</th>\n",
       "      <th>CC</th>\n",
       "      <th>Weight</th>\n",
       "      <th>ModelYear</th>\n",
       "      <th>l/100km</th>\n",
       "    </tr>\n",
       "  </thead>\n",
       "  <tbody>\n",
       "    <tr>\n",
       "      <th>cylinders</th>\n",
       "      <td>1.000000</td>\n",
       "      <td>0.835360</td>\n",
       "      <td>-0.505419</td>\n",
       "      <td>0.950722</td>\n",
       "      <td>0.896036</td>\n",
       "      <td>-0.348746</td>\n",
       "      <td>0.839282</td>\n",
       "    </tr>\n",
       "    <tr>\n",
       "      <th>horsepower</th>\n",
       "      <td>0.835360</td>\n",
       "      <td>1.000000</td>\n",
       "      <td>-0.689017</td>\n",
       "      <td>0.889202</td>\n",
       "      <td>0.854505</td>\n",
       "      <td>-0.417669</td>\n",
       "      <td>0.848391</td>\n",
       "    </tr>\n",
       "    <tr>\n",
       "      <th>acceleration</th>\n",
       "      <td>-0.505419</td>\n",
       "      <td>-0.689017</td>\n",
       "      <td>1.000000</td>\n",
       "      <td>-0.543694</td>\n",
       "      <td>-0.417474</td>\n",
       "      <td>0.288137</td>\n",
       "      <td>-0.455761</td>\n",
       "    </tr>\n",
       "    <tr>\n",
       "      <th>CC</th>\n",
       "      <td>0.950722</td>\n",
       "      <td>0.889202</td>\n",
       "      <td>-0.543694</td>\n",
       "      <td>1.000000</td>\n",
       "      <td>0.932817</td>\n",
       "      <td>-0.370180</td>\n",
       "      <td>0.866639</td>\n",
       "    </tr>\n",
       "    <tr>\n",
       "      <th>Weight</th>\n",
       "      <td>0.896036</td>\n",
       "      <td>0.854505</td>\n",
       "      <td>-0.417474</td>\n",
       "      <td>0.932817</td>\n",
       "      <td>1.000000</td>\n",
       "      <td>-0.306436</td>\n",
       "      <td>0.885202</td>\n",
       "    </tr>\n",
       "    <tr>\n",
       "      <th>ModelYear</th>\n",
       "      <td>-0.348746</td>\n",
       "      <td>-0.417669</td>\n",
       "      <td>0.288137</td>\n",
       "      <td>-0.370180</td>\n",
       "      <td>-0.306436</td>\n",
       "      <td>1.000000</td>\n",
       "      <td>-0.557387</td>\n",
       "    </tr>\n",
       "    <tr>\n",
       "      <th>l/100km</th>\n",
       "      <td>0.839282</td>\n",
       "      <td>0.848391</td>\n",
       "      <td>-0.455761</td>\n",
       "      <td>0.866639</td>\n",
       "      <td>0.885202</td>\n",
       "      <td>-0.557387</td>\n",
       "      <td>1.000000</td>\n",
       "    </tr>\n",
       "  </tbody>\n",
       "</table>\n",
       "</div>"
      ],
      "text/plain": [
       "              cylinders  horsepower  acceleration        CC    Weight  \\\n",
       "cylinders      1.000000    0.835360     -0.505419  0.950722  0.896036   \n",
       "horsepower     0.835360    1.000000     -0.689017  0.889202  0.854505   \n",
       "acceleration  -0.505419   -0.689017      1.000000 -0.543694 -0.417474   \n",
       "CC             0.950722    0.889202     -0.543694  1.000000  0.932817   \n",
       "Weight         0.896036    0.854505     -0.417474  0.932817  1.000000   \n",
       "ModelYear     -0.348746   -0.417669      0.288137 -0.370180 -0.306436   \n",
       "l/100km        0.839282    0.848391     -0.455761  0.866639  0.885202   \n",
       "\n",
       "              ModelYear   l/100km  \n",
       "cylinders     -0.348746  0.839282  \n",
       "horsepower    -0.417669  0.848391  \n",
       "acceleration   0.288137 -0.455761  \n",
       "CC            -0.370180  0.866639  \n",
       "Weight        -0.306436  0.885202  \n",
       "ModelYear      1.000000 -0.557387  \n",
       "l/100km       -0.557387  1.000000  "
      ]
     },
     "execution_count": 49,
     "metadata": {},
     "output_type": "execute_result"
    }
   ],
   "source": [
    "correlation = df.corr()\n",
    "(correlation)"
   ]
  },
  {
   "cell_type": "markdown",
   "id": "3fee5b90-d34e-45b4-ba4e-793ca50bf00e",
   "metadata": {},
   "source": [
    "I chose to correlation here to see how closely linked the other categories are to 1/100km. Based of this, we can see that CC, Weight, cylinders and horespower should theoretically be the most predictive whereas ModelYear, Acceleration, cylinders and horsepower are the least predictive. Note, correlation does not necessarily imply causation here so while it could be a good indicator, it should not be the sole decision when deciding what makes a category more predictive"
   ]
  },
  {
   "cell_type": "markdown",
   "id": "b2aba5a0",
   "metadata": {},
   "source": [
    "**(b)**   \n"
   ]
  },
  {
   "cell_type": "code",
   "execution_count": 52,
   "id": "620140df",
   "metadata": {},
   "outputs": [
    {
     "name": "stdout",
     "output_type": "stream",
     "text": [
      "Performance with All Features\n",
      "\n",
      "Accuracy: 0.8854302440711226\n"
     ]
    }
   ],
   "source": [
    "\n",
    "dropped= df.drop('l/100km',axis=1)\n",
    "x_train, x_test, y_train, y_test = train_test_split(dropped, df['l/100km'], test_size=0.3, random_state=42)\n",
    "model = LinearRegression()\n",
    "model.fit(x_train, y_train)\n",
    "y_pred = model.predict(x_test)\n",
    "print(\"Performance with All Features\\n\")\n",
    "print(\"Accuracy:\", model.score(x_test, y_test))\n",
    "\n"
   ]
  },
  {
   "cell_type": "markdown",
   "id": "c46d26d4",
   "metadata": {},
   "source": [
    "**(c)**  \n"
   ]
  },
  {
   "cell_type": "code",
   "execution_count": 54,
   "id": "3e838d28",
   "metadata": {},
   "outputs": [
    {
     "name": "stdout",
     "output_type": "stream",
     "text": [
      "Performance with Most Predictive Features\n",
      "\n",
      "Accuracy: 0.8302842059124306\n",
      "\n",
      "Performance with Least Predictive Features\n",
      "\n",
      "Accuracy: 0.8456580076507347\n"
     ]
    }
   ],
   "source": [
    "most_predictive= df.drop(['l/100km','acceleration','ModelYear'],axis=1)\n",
    "least_predictive= df.drop(['l/100km','CC','Weight'],axis=1)\n",
    "x_train1, x_test1, y_train1, y_test1 = train_test_split(most_predictive, df['l/100km'], test_size=0.3, random_state=42)\n",
    "\n",
    "model_1 = LinearRegression()\n",
    "model_1.fit(x_train1, y_train1)\n",
    "y_pred1 = model_1.predict(x_test1)\n",
    "print(\"Performance with Most Predictive Features\\n\")\n",
    "print(\"Accuracy:\", model_1.score(x_test1, y_test1))\n",
    "\n",
    "x_train2, x_test2, y_train2, y_test2 = train_test_split(least_predictive, df['l/100km'], test_size=0.3, random_state=42)\n",
    "\n",
    "model_2 = LinearRegression()\n",
    "model_2.fit(x_train2, y_train2)\n",
    "y_pred2 = model_2.predict(x_test2)\n",
    "print(\"\\nPerformance with Least Predictive Features\\n\")\n",
    "print(\"Accuracy:\", model_2.score(x_test2, y_test2))\n",
    "\n"
   ]
  },
  {
   "cell_type": "markdown",
   "id": "9827bb37-d5ae-4050-9bfc-b547c3e46ea5",
   "metadata": {},
   "source": [
    "When we use all 6 models for our linear regression model, we get an accuracy of around 88.5%. When we use the categories which should be the most predictive, we get a decrease in accuracy leading to an accuracy of around 83%. On the other hand, if we use the least predictive features, we stil lget a drop from our initial model but we get an accuracy of around 84.6%, which is surprisngly higher than the most_predictive model. This could be that some of the variables are more closely linked with each other so when we drop one, it leads to a performance loss. It could also be that while there is a higher correlation, it could mean that the model is overfitting leading to a worse prediction. "
   ]
  },
  {
   "cell_type": "code",
   "execution_count": null,
   "id": "d5f46407-2065-4298-a010-1f45ea720c67",
   "metadata": {},
   "outputs": [],
   "source": []
  }
 ],
 "metadata": {
  "kernelspec": {
   "display_name": "Python 3 (ipykernel)",
   "language": "python",
   "name": "python3"
  },
  "language_info": {
   "codemirror_mode": {
    "name": "ipython",
    "version": 3
   },
   "file_extension": ".py",
   "mimetype": "text/x-python",
   "name": "python",
   "nbconvert_exporter": "python",
   "pygments_lexer": "ipython3",
   "version": "3.12.4"
  }
 },
 "nbformat": 4,
 "nbformat_minor": 5
}
