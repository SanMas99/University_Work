{
 "cells": [
  {
   "cell_type": "markdown",
   "id": "00cb82db",
   "metadata": {},
   "source": [
    "# COMP41680/COMP4760 Class Test\n",
    "\n",
    "This test involves analysing store product sales data from different retail stores. **Complete all three tasks. All tasks carry equal marks.**\n",
    "\n",
    "The data is stored in CSV format, with the following fields:\n",
    "\n",
    "- *date*: the date on which product was sold\n",
    "- *category*: high-level category type of the product\n",
    "- *location*: store location where the product was sold\n",
    "- *amount*: the sale value in euros of the product"
   ]
  },
  {
   "cell_type": "code",
   "execution_count": null,
   "id": "44a57d61",
   "metadata": {},
   "outputs": [],
   "source": [
    "import numpy as np\n",
    "import pandas as pd\n",
    "import matplotlib\n",
    "import matplotlib.pyplot as plt\n",
    "%matplotlib inline"
   ]
  },
  {
   "cell_type": "markdown",
   "id": "e8e365bb",
   "metadata": {},
   "source": [
    "## Task 1: Data Loading and Initial Characterisation"
   ]
  },
  {
   "cell_type": "markdown",
   "id": "ff3e46be",
   "metadata": {},
   "source": [
    "**(a)** URL for data.\n",
    "\n",
    "http://mlg.ucd.ie/modules/python/test/retail.csv   \n",
    "or simple load the file `retail.csv`"
   ]
  },
  {
   "cell_type": "code",
   "execution_count": null,
   "id": "9c83acd2",
   "metadata": {},
   "outputs": [],
   "source": []
  },
  {
   "cell_type": "markdown",
   "id": "4d46fa5d",
   "metadata": {},
   "source": [
    "**(b)** "
   ]
  },
  {
   "cell_type": "code",
   "execution_count": null,
   "id": "d48d96c6",
   "metadata": {},
   "outputs": [],
   "source": []
  },
  {
   "cell_type": "markdown",
   "id": "4d862b21",
   "metadata": {},
   "source": [
    "**(c)** "
   ]
  },
  {
   "cell_type": "code",
   "execution_count": null,
   "id": "d733fcce",
   "metadata": {},
   "outputs": [],
   "source": []
  },
  {
   "cell_type": "markdown",
   "id": "8fd63a83",
   "metadata": {},
   "source": [
    "## Task 2: Analysis of Feature Associations"
   ]
  },
  {
   "cell_type": "markdown",
   "id": "4f1da450",
   "metadata": {},
   "source": [
    "**(a)** "
   ]
  },
  {
   "cell_type": "code",
   "execution_count": null,
   "id": "4b75476d",
   "metadata": {},
   "outputs": [],
   "source": []
  },
  {
   "cell_type": "markdown",
   "id": "b5db22ec",
   "metadata": {},
   "source": [
    "**(b)**  \n"
   ]
  },
  {
   "cell_type": "code",
   "execution_count": null,
   "id": "7a9f51a4",
   "metadata": {},
   "outputs": [],
   "source": []
  },
  {
   "cell_type": "markdown",
   "id": "e3deff43",
   "metadata": {},
   "source": [
    "**(c)**  "
   ]
  },
  {
   "cell_type": "code",
   "execution_count": null,
   "id": "39b52953",
   "metadata": {},
   "outputs": [],
   "source": []
  },
  {
   "cell_type": "markdown",
   "id": "58545deb",
   "metadata": {},
   "source": [
    "## Task 3: Time Series Analysis"
   ]
  },
  {
   "cell_type": "markdown",
   "id": "6849fb25",
   "metadata": {},
   "source": [
    "**(a)** "
   ]
  },
  {
   "cell_type": "code",
   "execution_count": null,
   "id": "ae9b469e",
   "metadata": {},
   "outputs": [],
   "source": []
  },
  {
   "cell_type": "markdown",
   "id": "e184e44d",
   "metadata": {},
   "source": [
    "**(b)**  "
   ]
  },
  {
   "cell_type": "code",
   "execution_count": null,
   "id": "80a9b957",
   "metadata": {},
   "outputs": [],
   "source": []
  }
 ],
 "metadata": {
  "kernelspec": {
   "display_name": "Python 3 (ipykernel)",
   "language": "python",
   "name": "python3"
  },
  "language_info": {
   "codemirror_mode": {
    "name": "ipython",
    "version": 3
   },
   "file_extension": ".py",
   "mimetype": "text/x-python",
   "name": "python",
   "nbconvert_exporter": "python",
   "pygments_lexer": "ipython3",
   "version": "3.12.4"
  }
 },
 "nbformat": 4,
 "nbformat_minor": 5
}
