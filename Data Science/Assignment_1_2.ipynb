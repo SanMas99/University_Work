{
 "cells": [
  {
   "cell_type": "code",
   "execution_count": 7,
   "metadata": {},
   "outputs": [],
   "source": [
    "import json\n",
    "from pathlib import Path\n",
    "from datetime import datetime\n",
    "import pandas as pd\n",
    "import sklearn \n",
    "import matplotlib\n",
    "import matplotlib.pyplot as plt\n",
    "import matplotlib.dates as mdates\n",
    "import matplotlib.ticker as ticker\n",
    "from pandas.plotting import scatter_matrix\n",
    "import seaborn as sns\n",
    "%matplotlib inline"
   ]
  },
  {
   "cell_type": "code",
   "execution_count": 6,
   "metadata": {},
   "outputs": [],
   "source": [
    "def clean_raw_data(data_file):\n",
    "    raw_data=pd.read_csv(data_file)\n"
   ]
  },
  {
   "cell_type": "code",
   "execution_count": null,
   "metadata": {},
   "outputs": [],
   "source": [
    "            #date=datetime.utcfromtimestamp(properties['time'] / 1000)\n",
    "            #full_place=properties['place']\n",
    "            #split_data=full_place.split(\",\")\n",
    "            #if len(split_data)==2:\n",
    "            #    country_sea=str(split_data[1])\n",
    "            #else:\n",
    "            #    country_sea=split_data[0]\n",
    "            #if \"Earthquake\" in country_sea:\n",
    "            #    country_sea.replace(\"Earthquake\",\"\")\n",
    "            #country_sea=\" \".join([word for word in country_sea.split() if word.istitle()])\n",
    "            "
   ]
  }
 ],
 "metadata": {
  "kernelspec": {
   "display_name": "Python 3",
   "language": "python",
   "name": "python3"
  },
  "language_info": {
   "codemirror_mode": {
    "name": "ipython",
    "version": 3
   },
   "file_extension": ".py",
   "mimetype": "text/x-python",
   "name": "python",
   "nbconvert_exporter": "python",
   "pygments_lexer": "ipython3",
   "version": "3.10.6"
  }
 },
 "nbformat": 4,
 "nbformat_minor": 2
}
